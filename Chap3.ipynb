{
 "cells": [
  {
   "cell_type": "markdown",
   "metadata": {},
   "source": [
    "## Julia Codes of Chap3"
   ]
  },
  {
   "cell_type": "code",
   "execution_count": 1,
   "metadata": {},
   "outputs": [],
   "source": [
    "using LinearAlgebra, SparseArrays"
   ]
  },
  {
   "cell_type": "code",
   "execution_count": 2,
   "metadata": {},
   "outputs": [
    {
     "data": {
      "text/plain": [
       "forwardrow (generic function with 1 method)"
      ]
     },
     "execution_count": 2,
     "metadata": {},
     "output_type": "execute_result"
    }
   ],
   "source": [
    "function forwardrow(L::Array{Float64,2}, b::Array{Float64,1})\n",
    "    # FORWARDROW forward substitution: row oriented version.\n",
    "    # X=FORWARDROW(L,B) solve the lower triangular system L*X=B with\n",
    "    # the forward substitution method in the row-oriented version.\n",
    "    local x::Array{Float64}\n",
    "    \n",
    "    n, m = size(L)\n",
    "    if n != m\n",
    "        println(\"Only squared systems\")\n",
    "    end\n",
    "    if minimum(abs.(diag(L))) == 0\n",
    "        println(\"The system is singular\")\n",
    "    end\n",
    "    \n",
    "    # x = zeros(n) useless\n",
    "    x = zeros(Float64, n)\n",
    "    x[1] = b[1] / L[1, 1]\n",
    "    for i = 2:n\n",
    "        a = L[i, 1:i-1] .* x[1:i-1] # Float64/array\n",
    "        x[i] = (b[i] - a[1, 1]) / L[i, i]\n",
    "    end\n",
    "    return x\n",
    "end"
   ]
  },
  {
   "cell_type": "code",
   "execution_count": 3,
   "metadata": {},
   "outputs": [
    {
     "data": {
      "text/plain": [
       "forwardcol (generic function with 1 method)"
      ]
     },
     "execution_count": 3,
     "metadata": {},
     "output_type": "execute_result"
    }
   ],
   "source": [
    "function forwardcol(L, b)\n",
    "    # FORWARDCOL forward substitution: column oriented version.\n",
    "    # X=FORWARDCOL(L,B) solve the lower triangular system L*X=B with the\n",
    "    # forward substitution method in the column-oriented version.\n",
    "    n, m = size(L)\n",
    "    if n != m\n",
    "        println(\"Only squared systems\")\n",
    "    end\n",
    "    if minimum(abs.(diag(L))) == 0\n",
    "        println(\"The system is singular\")\n",
    "    end\n",
    "    for j = 1:n-1\n",
    "        b[j] = b[j] / L[j,j]\n",
    "        b[j+1:n] = b[j+1:n] - b[j] * L[j+1:n,j] \n",
    "    end \n",
    "    b[n] = b[n] / L[n, n]\n",
    "    return b\n",
    "end"
   ]
  },
  {
   "cell_type": "code",
   "execution_count": 4,
   "metadata": {},
   "outputs": [
    {
     "data": {
      "text/plain": [
       "backwardcol (generic function with 1 method)"
      ]
     },
     "execution_count": 4,
     "metadata": {},
     "output_type": "execute_result"
    }
   ],
   "source": [
    "function backwardcol(U::Array{Float64,2}, b)\n",
    "    # BACKWARDCOL backward substitution: column oriented version.\n",
    "    #  X=BACKWARDCOL(U,B) solve the upper triangular system U*X=B with the\n",
    "    #  backward substitution method in the column-oriented version.\n",
    "    local x::Array{Float64}\n",
    "    \n",
    "    n, m = size(U)\n",
    "    if n != m\n",
    "        println(\"Only squared systems\")\n",
    "    end\n",
    "    if minimum(abs.(diag(U))) == 0\n",
    "        println(\"The system is singular\")\n",
    "    end\n",
    "    for j = n:-1:2\n",
    "        b[j] = b[j] / U[j, j]\n",
    "        b[1:j-1] = b[1:j-1] - b[j] * U[1:j-1, j] \n",
    "    end\n",
    "    b[1] = b[1] / U[1,1]\n",
    "    return b\n",
    "end  "
   ]
  },
  {
   "cell_type": "code",
   "execution_count": 5,
   "metadata": {},
   "outputs": [],
   "source": [
    "N = 20000\n",
    "L = rand(N, N)\n",
    "b = rand(N)\n",
    "if minimum(diag(L)) < 0\n",
    "    println(\"false\")\n",
    "end"
   ]
  },
  {
   "cell_type": "code",
   "execution_count": 6,
   "metadata": {},
   "outputs": [
    {
     "name": "stdout",
     "output_type": "stream",
     "text": [
      "  4.405502 seconds (569.18 k allocations: 4.499 GiB, 4.90% gc time)\n",
      "  1.064212 seconds (618.17 k allocations: 5.991 GiB, 8.73% gc time)\n",
      "  1.048234 seconds (215.88 k allocations: 5.972 GiB, 9.17% gc time)\n",
      "  4.363928 seconds (113.86 k allocations: 4.477 GiB, 1.68% gc time)\n",
      "  0.916502 seconds (151.81 k allocations: 5.969 GiB, 8.94% gc time)\n",
      "  0.900736 seconds (151.81 k allocations: 5.969 GiB, 9.15% gc time)\n"
     ]
    }
   ],
   "source": [
    "@time x1 = forwardrow(L, b)\n",
    "@time x2 = forwardcol(L, b);\n",
    "@time x3 = backwardcol(L, b);\n",
    "\n",
    "@time x1 = forwardrow(L, b)\n",
    "@time x2 = forwardcol(L, b);\n",
    "@time x3 = backwardcol(L, b);"
   ]
  },
  {
   "cell_type": "markdown",
   "metadata": {},
   "source": [
    "### Modified Gram-Schmidt Method"
   ]
  },
  {
   "cell_type": "code",
   "execution_count": 7,
   "metadata": {},
   "outputs": [
    {
     "data": {
      "text/plain": [
       "modgrams (generic function with 1 method)"
      ]
     },
     "execution_count": 7,
     "metadata": {},
     "output_type": "execute_result"
    }
   ],
   "source": [
    "function modgrams(A::Array{Float64,2})\n",
    "    # MODGRAMS QR factorization of a matrix A.\n",
    "    # [Q,R]=MODGRAMS(A) produces an upper trapezoidal matrix R and an orthogonal \n",
    "    # matrix Q such that Q*R=A.\n",
    "    m, n = size(A)\n",
    "    Q = zeros(Float64, m, n)   \n",
    "    Q[1:m, 1] = A[1:m, 1]  \n",
    "    R = zeros(Float64, n, n)  \n",
    "    R[1, 1] = 1\n",
    "    for k = 1:n\n",
    "        R[k, k] = norm(A[1:m, k])\n",
    "        Q[1:m, k] = A[1:m, k] / R[k, k]\n",
    "        j = k+1:n  # UnitRange or Array, different from Matlab\n",
    "        # println(Q)\n",
    "        # println(A)\n",
    "        a = Q[1:m, k]' * A[1:m, j]\n",
    "        R[k, j] = a'\n",
    "        b = kron(Q[1:m, k]', R[k, j])\n",
    "        # println(Q[1:m,k]', R[k,j])\n",
    "        # println(b)\n",
    "        A[1:m, j] = A[1:m, j] - kron(Q[1:m, k]', R[k, j])'  # tensor product different from Matlab\n",
    "    end\n",
    "    return Q, R\n",
    "end"
   ]
  },
  {
   "cell_type": "code",
   "execution_count": 8,
   "metadata": {},
   "outputs": [
    {
     "data": {
      "text/plain": [
       "([0.17407765595569785 0.5627039587626639 0.8081220356417684; 0.6963106238227914 0.5099504626286637 -0.5050762722761051; 0.6963106238227914 -0.6506264523193306 0.3030457633656641], [5.744562646538029 5.918640302493727 6.789028582272217; 0.0 1.7232808737106582 2.7959352951019865; 0.0 0.0 0.3030457633656631])"
      ]
     },
     "execution_count": 8,
     "metadata": {},
     "output_type": "execute_result"
    }
   ],
   "source": [
    "A = [1.0 2.0 3.0; 4.0 5.0 6.0; 4.0 3.0 3.0];\n",
    "Q, R = modgrams(A)"
   ]
  },
  {
   "cell_type": "markdown",
   "metadata": {},
   "source": [
    "### LU factorization"
   ]
  },
  {
   "cell_type": "code",
   "execution_count": 9,
   "metadata": {},
   "outputs": [
    {
     "data": {
      "text/plain": [
       "lukji (generic function with 1 method)"
      ]
     },
     "execution_count": 9,
     "metadata": {},
     "output_type": "execute_result"
    }
   ],
   "source": [
    "function lukji(A::Array{Float64,2})\n",
    "    # LUKJI LU factorization of a matrix A in the kji version\n",
    "    # Y=LUKJI(A) Y contains the strict lower triangle of L embedded in the same \n",
    "    # matrix as the upper triangle of U.\n",
    "    n, m = size(A)\n",
    "    if n != m\n",
    "        println(\"Only squared systems\")\n",
    "    end\n",
    "    for k = 1:n-1\n",
    "        if A[k, k] == 0\n",
    "            println(\"Null pivot element\")\n",
    "        end\n",
    "        a = A[k+1:n, k] / A[k, k]\n",
    "        A[k+1:n, k] = a'\n",
    "        for j = k+1:n\n",
    "        i = k+1:n\n",
    "        A[i, j] = A[i, j] - A[i, k] * A[k, j]\n",
    "        end\n",
    "    end\n",
    "    return A\n",
    "end"
   ]
  },
  {
   "cell_type": "code",
   "execution_count": 10,
   "metadata": {},
   "outputs": [
    {
     "data": {
      "text/plain": [
       "lukij (generic function with 1 method)"
      ]
     },
     "execution_count": 10,
     "metadata": {},
     "output_type": "execute_result"
    }
   ],
   "source": [
    "function lukij(A::Array{Float64,2})\n",
    "    # LUKJI LU factorization of a matrix A in the kji version\n",
    "    # Y=LUKJI(A) Y contains the strict lower triangle of L embedded in the same \n",
    "    # matrix as the upper triangle of U.\n",
    "    n, m = size(A)\n",
    "    if n != m\n",
    "        println(\"Only squared systems\")\n",
    "    end\n",
    "    for k = 1:n-1\n",
    "        if A[k, k] == 0\n",
    "            println(\"Null pivot element\")\n",
    "        end\n",
    "        a = A[k+1:n, k] / A[k, k]\n",
    "        A[k+1:n, k] = a'\n",
    "        for i = k+1:n\n",
    "        j = k+1:n\n",
    "        A[i, j] = A[i, j] - A[i, k] * A[k, j]\n",
    "        end\n",
    "    end\n",
    "    return A\n",
    "end"
   ]
  },
  {
   "cell_type": "code",
   "execution_count": 11,
   "metadata": {},
   "outputs": [
    {
     "data": {
      "text/plain": [
       "lujki (generic function with 1 method)"
      ]
     },
     "execution_count": 11,
     "metadata": {},
     "output_type": "execute_result"
    }
   ],
   "source": [
    "function lujki(A::Array{Float64,2})\n",
    "    # LUJKI LU factorization of a matrix A in the jki version\n",
    "    # Y=LUJKI(A) Y contains the strict lower triangle of L embedded in the same \n",
    "    # matrix as the upper triangle of U.\n",
    "    n, m = size(A)\n",
    "    if n != m\n",
    "        println(\"Only squared systems\") \n",
    "    end\n",
    "    for j = 1:n\n",
    "        if A[j, j] == 0\n",
    "            println(\"Null pivot element\") \n",
    "        end\n",
    "        for k = 1:j-1   \n",
    "            i = k+1:n \n",
    "            A[i, j] = A[i, j] - A[i, k] * A[k, j]\n",
    "        end\n",
    "        i = j+1:n   \n",
    "        A[i, j] = A[i, j] / A[j, j] \n",
    "    end\n",
    "    return A\n",
    "end"
   ]
  },
  {
   "cell_type": "code",
   "execution_count": 12,
   "metadata": {},
   "outputs": [
    {
     "data": {
      "text/plain": [
       "3×3 Array{Float64,2}:\n",
       " -149.0          -50.0       -154.0    \n",
       "   -0.000162336    0.999946    -5.32017\n",
       "    8.16216e-6    -0.357533    -3.78343"
      ]
     },
     "execution_count": 12,
     "metadata": {},
     "output_type": "execute_result"
    }
   ],
   "source": [
    "A = [-149.0   -50.0  -154.0; 537.0   180.0   546.0; -27.0    -9.0   -25.0];\n",
    "x1 = lujki(A)\n",
    "x2 = lukij(A)\n",
    "x3 = lukji(A)"
   ]
  },
  {
   "cell_type": "code",
   "execution_count": 13,
   "metadata": {},
   "outputs": [
    {
     "name": "stdout",
     "output_type": "stream",
     "text": [
      " 17.709192 seconds (8.00 M allocations: 80.604 GiB, 11.91% gc time)\n",
      " 43.457841 seconds (8.00 M allocations: 80.604 GiB, 5.53% gc time)\n",
      " 15.654265 seconds (8.00 M allocations: 80.604 GiB, 12.83% gc time)\n"
     ]
    },
    {
     "data": {
      "text/plain": [
       "2000×2000 Array{Float64,2}:\n",
       "  0.353892   0.903308   0.905402    0.672591    …      0.223586     0.5135  \n",
       "  7.17605   -8.89745   -9.08699    -6.17455           -1.38084     -5.00231 \n",
       " 14.7447     1.54757   -5.12698    -7.71617           -6.51213     -3.46213 \n",
       " 13.048      1.47887    0.0633445  40.5036            64.8093      -3.61227 \n",
       " 18.7798     2.23917    0.452252    0.0859955         45.447      -29.9159  \n",
       " 10.3217     0.977745  -0.315915   -0.0743802   …      0.58147     -0.213933\n",
       " 15.6587     1.85006    0.425079    0.0779771          1.15751     -3.13093 \n",
       " 15.227      1.68563    0.102178    0.0115177         -0.616919     6.09736 \n",
       " 14.3382     1.62887   -0.0972173  -0.0172519          0.409479     3.0635  \n",
       " 15.5074     1.89168    0.412891    0.0821662         -2.1257      -1.84547 \n",
       " 17.1726     1.92223   -0.121838   -0.0246042   …    -23.8857     -17.4345  \n",
       " 18.1405     2.25844    0.399553    0.086914           1.80909      1.86134 \n",
       " 19.7939     2.48199    0.253269    0.0660043         -4.51666     -3.8915  \n",
       "  ⋮                                             ⋱                           \n",
       " 15.236      1.93876    0.608269    0.123266          -3.93666    814.71    \n",
       " 14.6896     1.65619    0.06065     0.0079175        142.789     -220.489   \n",
       " 18.4712     2.07251    0.119777    0.0162029   …     20.4019    -385.74    \n",
       " 17.9188     1.98488    0.281384    0.0407732      -1421.8        -91.5459  \n",
       " 18.129      2.10656   -0.0809652  -0.00978568      -199.956      718.29    \n",
       "  8.82565    1.1348     0.443899    0.0880337       -236.447      304.868   \n",
       " 20.8538     2.47563    0.193872    0.0425355        199.951     -188.847   \n",
       "  0.537064  -0.150679  -0.118124   -0.0422984   …     -2.67836    150.135   \n",
       " 18.7753     2.19086   -0.0596254  -0.00508377        -0.80755     24.8173  \n",
       "  3.46199    0.327757   0.189665    0.024722          97.6525     -32.6921  \n",
       "  8.98948    1.16883    0.478704    0.0955073        103.534        2.86891 \n",
       " 19.4165     2.29025    0.594174    0.107556          -0.323994    39.0814  "
      ]
     },
     "execution_count": 13,
     "metadata": {},
     "output_type": "execute_result"
    }
   ],
   "source": [
    "N = 2000\n",
    "A = rand(N, N)\n",
    "b = rand(N)\n",
    "if minimum(diag(L)) < 0\n",
    "    println(\"false\")\n",
    "end\n",
    "\n",
    "@time lukji(A)\n",
    "@time lukij(A)\n",
    "@time lujki(A)\n"
   ]
  },
  {
   "cell_type": "markdown",
   "metadata": {},
   "source": [
    "### Cholesky factorization"
   ]
  },
  {
   "cell_type": "code",
   "execution_count": 14,
   "metadata": {},
   "outputs": [
    {
     "data": {
      "text/plain": [
       "choles2 (generic function with 1 method)"
      ]
     },
     "execution_count": 14,
     "metadata": {},
     "output_type": "execute_result"
    }
   ],
   "source": [
    "function choles2(A)\n",
    "    # CHOL2 Cholesky factorization of a s.p.d. matrix A.\n",
    "    # R=CHOL2(A) produces an upper triangular matrix R such that\n",
    "    # R'*R=A.\n",
    "    n, m = size(A)\n",
    "    if n != m\n",
    "        println(\"Only squared systems\")\n",
    "    end\n",
    "    for k = 1:n-1\n",
    "        if A[k, k] <= 0\n",
    "            println(\"Null or negative pivot element\")\n",
    "        end\n",
    "        A[k, k] = sqrt(A[k, k])\n",
    "        A[k+1:n, k] = A[k+1:n, k] / A[k, k]\n",
    "        for j = k+1:n\n",
    "            A[j:n, j] = A[j:n, j] - A[j:n, k] * A[j, k]\n",
    "        end\n",
    "    end\n",
    "    A[n, n] = sqrt(A[n, n])\n",
    "    A = tril(A) \n",
    "    A = A'\n",
    "    return A\n",
    "end"
   ]
  },
  {
   "cell_type": "code",
   "execution_count": 15,
   "metadata": {},
   "outputs": [
    {
     "data": {
      "text/plain": [
       "3×3 Adjoint{Float64,Array{Float64,2}}:\n",
       " 1.41421  0.707107  0.0     \n",
       " 0.0      1.22474   0.816497\n",
       " 0.0      0.0       1.1547  "
      ]
     },
     "execution_count": 15,
     "metadata": {},
     "output_type": "execute_result"
    }
   ],
   "source": [
    "A = [2.0   1.0  0.0; 1.0   2.0   1.0; 0.0    1.0   2.0];\n",
    "R = choles2(A)"
   ]
  },
  {
   "cell_type": "markdown",
   "metadata": {},
   "source": [
    "### Banded matrix"
   ]
  },
  {
   "cell_type": "code",
   "execution_count": 16,
   "metadata": {},
   "outputs": [
    {
     "data": {
      "text/plain": [
       "luband (generic function with 1 method)"
      ]
     },
     "execution_count": 16,
     "metadata": {},
     "output_type": "execute_result"
    }
   ],
   "source": [
    "function luband(A, p, q)\n",
    "    #  LUBAND LU factorization for a banded matrix\n",
    "    #  Y=LUBAND(A,P,Q) Y contains the strict lower triangle of L embedded in \n",
    "    #  the same matrix as the upper triangle of U for a banded matrix A\n",
    "    #  with an upper bandwidth Q and a lower bandwidth P.\n",
    "    n, m = size(A)\n",
    "    if n != m \n",
    "        println(\"Only squared systems\")\n",
    "    end\n",
    "    for k = 1:n-1\n",
    "        for i = k+1:min(k+p, n)\n",
    "            A[i, k] = A[i, k] / A[k, k]\n",
    "        end\n",
    "        for j = k+1:min(k+q, n)\n",
    "            i = k+1:min(k+p, n)   \n",
    "            A[i, j] = A[i, j] - A[i, k] * A[k, j]\n",
    "        end\n",
    "    end\n",
    "    return A\n",
    "end"
   ]
  },
  {
   "cell_type": "code",
   "execution_count": 17,
   "metadata": {},
   "outputs": [
    {
     "data": {
      "text/plain": [
       "4×4 Array{Float64,2}:\n",
       " 2.0  1.0       0.0      0.0 \n",
       " 0.5  1.5       1.0      0.0 \n",
       " 0.0  0.666667  1.33333  1.0 \n",
       " 0.0  0.0       0.75     1.25"
      ]
     },
     "execution_count": 17,
     "metadata": {},
     "output_type": "execute_result"
    }
   ],
   "source": [
    "A = [2.0   1.0  0.0  0.0;  1.0   2.0   1.0  0.0;  0.0  1.0   2.0  1.0; 0.0 0.0 1.0 2.0];\n",
    "Y = luband(A, 1, 1)"
   ]
  },
  {
   "cell_type": "code",
   "execution_count": 18,
   "metadata": {},
   "outputs": [
    {
     "data": {
      "text/plain": [
       "4-element Array{Float64,1}:\n",
       "  0.0                \n",
       "  1.0                \n",
       "  0.33330000000000004\n",
       " -0.24997500000000003"
      ]
     },
     "execution_count": 18,
     "metadata": {},
     "output_type": "execute_result"
    }
   ],
   "source": [
    "function forwband(L, p, b)\n",
    "    #  FORWBAND forward substitution for a banded matrix\n",
    "    #  X=FORWBAND(L,P,B) solve the lower triangular system L*X=B\n",
    "    #  where L is a matrix with lower bandwidth P.\n",
    "    n, m = size(L)\n",
    "    if n != m\n",
    "        print(\"Only squared systems\")\n",
    "    end\n",
    "    for j = 1:n-1\n",
    "        i = j+1:minimum([j+p, n]) \n",
    "        a = i[1]\n",
    "        b[a] = b[a] - L[a, j] * b[j]  \n",
    "    end\n",
    "    return b\n",
    "end\n",
    "\n",
    "L = [1.0000         0         0         0;\n",
    "     0.5000    1.0000         0         0;\n",
    "          0    0.6667    1.0000         0;\n",
    "          0         0    0.7500    1.0000];\n",
    "b = [0; 1.0; 1.0; 0];\n",
    "x = forwband(L, 1, b)"
   ]
  },
  {
   "cell_type": "code",
   "execution_count": 19,
   "metadata": {},
   "outputs": [
    {
     "data": {
      "text/plain": [
       "4-element Array{Float64,1}:\n",
       " -0.08332708317707942\n",
       "  0.16665416635415883\n",
       "  0.7500187504687618 \n",
       "  0.0                "
      ]
     },
     "execution_count": 19,
     "metadata": {},
     "output_type": "execute_result"
    }
   ],
   "source": [
    "function backband(U, q, b)\n",
    "    #  BACKBAND forward substitution for a banded matrix\n",
    "    #  X=BACKBAND(U,Q,B) solves the upper triangular system U*X=B\n",
    "    #  where U is a matrix with upper bandwidth Q.\n",
    "    n, m = size(U)\n",
    "    if n != m\n",
    "        println(\"Only square systems\")\n",
    "    end\n",
    "    for j = n:-1:1\n",
    "        b[j] = b[j] / U[j, j]\n",
    "        i = max(1,j-q):j-1\n",
    "        b[i] = b[i] - U[i, j] * b[j] \n",
    "    end\n",
    "    return b\n",
    "end\n",
    "\n",
    "U = [2.0000    1.0000         0         0\n",
    "         0    1.5000    1.0000         0\n",
    "         0         0    1.3333    1.0000\n",
    "         0         0         0    1.2500];\n",
    "b = [0; 1.0; 1.0; 0];\n",
    "x = backband(U, 1, b)"
   ]
  },
  {
   "cell_type": "markdown",
   "metadata": {},
   "source": [
    "### Tomas"
   ]
  },
  {
   "cell_type": "code",
   "execution_count": 20,
   "metadata": {},
   "outputs": [
    {
     "data": {
      "text/plain": [
       "modthomas (generic function with 1 method)"
      ]
     },
     "execution_count": 20,
     "metadata": {},
     "output_type": "execute_result"
    }
   ],
   "source": [
    "function modthomas(a, b, c, f)\n",
    "    #  MODTHOMAS modified version of the Thomas algorithm\n",
    "    #  X=MODTHOMAS(A,B,C,F) solve the system T*X=F where T\n",
    "    #  is the tridiagonal matrix T=tridiag(B,A,C).\n",
    "    \n",
    "    gamma = zeros(4)  # need to be defined\n",
    "    y = zeros(4)      # data deliver can not write y = gamma\n",
    "    x = zeros(4)\n",
    "    \n",
    "    n = length(a)\n",
    "    b = [0; b] \n",
    "    c = [c; 0] \n",
    "    gamma[1] = 1 / a[1]\n",
    "    for i = 2:n\n",
    "        gamma[i] = 1 / (a[i] - b[i] * gamma[i-1] * c[i-1])\n",
    "    end\n",
    "    y[1] = gamma[1] * f[1]\n",
    "    for i = 2:n\n",
    "        y[i] = gamma[i] * (f[i] - b[i] * y[i-1])\n",
    "    end\n",
    "    x[n,1] = y[n]\n",
    "    for i = n-1:-1:1  \n",
    "        x[i,1] = y[i] - gamma[i] * c[i] * x[i+1, 1]\n",
    "    end\n",
    "    return x\n",
    "end"
   ]
  },
  {
   "cell_type": "code",
   "execution_count": 21,
   "metadata": {},
   "outputs": [
    {
     "data": {
      "text/plain": [
       "4-element Array{Float64,1}:\n",
       " -0.19999999999999998\n",
       "  0.39999999999999997\n",
       "  0.4                \n",
       " -0.2                "
      ]
     },
     "execution_count": 21,
     "metadata": {},
     "output_type": "execute_result"
    }
   ],
   "source": [
    "b = ones(3, 1); c = ones(3, 1); a = 2*ones(4, 1);\n",
    "f = [0; 1; 1; 0];\n",
    "x = modthomas(a, b, c, f)"
   ]
  },
  {
   "cell_type": "markdown",
   "metadata": {},
   "source": [
    "### Condition number"
   ]
  },
  {
   "cell_type": "code",
   "execution_count": 22,
   "metadata": {},
   "outputs": [
    {
     "data": {
      "text/plain": [
       "condest2 (generic function with 1 method)"
      ]
     },
     "execution_count": 22,
     "metadata": {},
     "output_type": "execute_result"
    }
   ],
   "source": [
    "function condest2(A, L, U, theta)\n",
    "    #  CONDEST2 Condition number\n",
    "    #  K1=CONDEST2(A,L,U,THETA) returns an approximation of the\n",
    "    #  condition number of a matrix A. L and U are the factor of\n",
    "    #  the LU factorization of A. THETA contains random numbers.\n",
    "    \n",
    "    z = zeros(4)\n",
    "    \n",
    "    n, m = size(A)\n",
    "    if n != m \n",
    "        println(\"Only squared systems\")\n",
    "    end\n",
    "    p = zeros(1, n)\n",
    "    for k = 1:n\n",
    "        zplus = (theta[k] - p[k]) / U[k, k]  \n",
    "        zminu = (-theta[k] - p[k]) / U[k, k]\n",
    "        splus = abs(theta[k] - p[k])\n",
    "        sminu = abs(-theta[k] - p[k])\n",
    "        for i = k+1:n\n",
    "            splus = splus + abs(p[i] + U[k, i] * zplus) \n",
    "            sminu = sminu + abs(p[i] + U[k, i] * zminu)  \n",
    "        end   \n",
    "        if splus >= sminu\n",
    "            z[k] = zplus\n",
    "        else\n",
    "            z[k] = zminu\n",
    "        end\n",
    "        i = k+1:n\n",
    "        p[i] = p[i] + U[k, i] * z[k]\n",
    "    end\n",
    "    z = z'\n",
    "    x = backwardcol(L, z)\n",
    "    w = forwardcol(L, x)  \n",
    "    y = backwardcol(U, w)\n",
    "    k1 = norm(A, 1) * norm(y, 1) / norm(x, 1)\n",
    "    return k1\n",
    "end"
   ]
  },
  {
   "cell_type": "code",
   "execution_count": 23,
   "metadata": {},
   "outputs": [],
   "source": [
    "A = [2     1     0     0\n",
    "     1     2     1     0\n",
    "     0     1     2     1\n",
    "     0     0     1     2];\n",
    "L = [1.0000         0         0         0\n",
    "     0.5000    1.0000         0         0\n",
    "          0    0.6667    1.0000         0\n",
    "          0         0    0.7500    1.0000];\n",
    "U = [2.0000    1.0000         0         0\n",
    "          0    1.5000    1.0000         0\n",
    "          0         0    1.3333    1.0000\n",
    "          0         0         0    1.2500];\n",
    "n, m = size(A)\n",
    "theta = 0.1 * rand(n, 1);"
   ]
  },
  {
   "cell_type": "code",
   "execution_count": 24,
   "metadata": {},
   "outputs": [
    {
     "data": {
      "text/plain": [
       "14.0"
      ]
     },
     "execution_count": 24,
     "metadata": {},
     "output_type": "execute_result"
    }
   ],
   "source": [
    "k = condest2(A, L, U, theta)"
   ]
  },
  {
   "cell_type": "markdown",
   "metadata": {},
   "source": [
    "### Sparse Matrix\n",
    "In Julia, sparse matrices are stored in the Compressed Sparse Column (CSC) format. Julia sparse matrices have the type SparseMatrixCSC{Tv,Ti}, where Tv is the type of the stored values, and Ti is the integer type for storing column pointers and row indices. The internal representation of SparseMatrixCSC is as follows:\n",
    "```julia\n",
    "struct SparseMatrixCSC{Tv,Ti<:Integer} <: AbstractSparseMatrix{Tv,Ti}\n",
    "    m::Int                  # Number of rows\n",
    "    n::Int                  # Number of columns\n",
    "    colptr::Vector{Ti}      # Column j is in colptr[j]:(colptr[j+1]-1)\n",
    "    rowval::Vector{Ti}      # Row indices of stored values\n",
    "    nzval::Vector{Tv}       # Stored values, typically nonzeros\n",
    "end\n",
    "```"
   ]
  },
  {
   "cell_type": "code",
   "execution_count": 25,
   "metadata": {
    "scrolled": true
   },
   "outputs": [
    {
     "ename": "LoadError",
     "evalue": "syntax: extra token \"SparseMatrixCSC\" after end of expression",
     "output_type": "error",
     "traceback": [
      "syntax: extra token \"SparseMatrixCSC\" after end of expression",
      ""
     ]
    }
   ],
   "source": [
    "A = sparse([1, 1, 2, 3], [1, 3, 2, 3], [0, 1, 2, 0])\n",
    "3×3 SparseMatrixCSC{Int64,Int64} with 4 stored entries:\n",
    "  [1, 1]  =  0\n",
    "  [2, 2]  =  2\n",
    "  [1, 3]  =  1\n",
    "  [3, 3]  =  0"
   ]
  },
  {
   "cell_type": "code",
   "execution_count": 26,
   "metadata": {},
   "outputs": [
    {
     "data": {
      "text/plain": [
       "3×3 SparseMatrixCSC{Int64,Int64} with 2 stored entries:\n",
       "  [2, 2]  =  2\n",
       "  [1, 3]  =  1"
      ]
     },
     "execution_count": 26,
     "metadata": {},
     "output_type": "execute_result"
    }
   ],
   "source": [
    "dropzeros(A)"
   ]
  },
  {
   "cell_type": "code",
   "execution_count": 27,
   "metadata": {},
   "outputs": [
    {
     "data": {
      "text/plain": [
       "3-element SparseVector{Float64,Int64} with 0 stored entries"
      ]
     },
     "execution_count": 27,
     "metadata": {},
     "output_type": "execute_result"
    }
   ],
   "source": [
    "spzeros(3)"
   ]
  },
  {
   "cell_type": "code",
   "execution_count": 28,
   "metadata": {},
   "outputs": [
    {
     "data": {
      "text/plain": [
       "5×18 SparseMatrixCSC{Int64,Int64} with 4 stored entries:\n",
       "  [1,  4]  =  1\n",
       "  [4,  7]  =  2\n",
       "  [5,  9]  =  3\n",
       "  [3, 18]  =  -5"
      ]
     },
     "execution_count": 28,
     "metadata": {},
     "output_type": "execute_result"
    }
   ],
   "source": [
    "I = [1, 4, 3, 5]; J = [4, 7, 18, 9]; V = [1, 2, -5, 3];\n",
    "S = sparse(I,J,V)"
   ]
  },
  {
   "cell_type": "markdown",
   "metadata": {
    "collapsed": true
   },
   "source": [
    "### Cuthill-McKee Algorithm"
   ]
  },
  {
   "cell_type": "code",
   "execution_count": 29,
   "metadata": {},
   "outputs": [
    {
     "data": {
      "text/plain": [
       "\u001b[1m                       Sparsity Pattern\u001b[22m\n",
       "\u001b[90m          ┌──────────────────────────────────────────┐\u001b[39m    \n",
       "        \u001b[90m1\u001b[39m\u001b[90m │\u001b[39m\u001b[31m⣿\u001b[39m\u001b[31m⣿\u001b[39m\u001b[31m⣿\u001b[39m\u001b[31m⣿\u001b[39m\u001b[31m⣿\u001b[39m\u001b[31m⣿\u001b[39m\u001b[31m⣿\u001b[39m\u001b[31m⣿\u001b[39m\u001b[31m⣿\u001b[39m\u001b[31m⣿\u001b[39m\u001b[31m⣿\u001b[39m\u001b[31m⣿\u001b[39m\u001b[31m⣿\u001b[39m\u001b[31m⣿\u001b[39m\u001b[31m⣿\u001b[39m\u001b[31m⣿\u001b[39m\u001b[31m⣿\u001b[39m\u001b[31m⣿\u001b[39m\u001b[31m⣿\u001b[39m\u001b[31m⣿\u001b[39m\u001b[31m⣿\u001b[39m\u001b[31m⣿\u001b[39m\u001b[31m⣿\u001b[39m\u001b[31m⣿\u001b[39m\u001b[31m⣿\u001b[39m\u001b[31m⣿\u001b[39m\u001b[31m⣿\u001b[39m\u001b[31m⣿\u001b[39m\u001b[31m⣿\u001b[39m\u001b[31m⣿\u001b[39m\u001b[31m⣿\u001b[39m\u001b[31m⣿\u001b[39m\u001b[31m⣿\u001b[39m\u001b[31m⣿\u001b[39m\u001b[31m⣿\u001b[39m\u001b[31m⣿\u001b[39m\u001b[31m⣿\u001b[39m\u001b[31m⣿\u001b[39m\u001b[31m⣿\u001b[39m\u001b[31m⣿\u001b[39m\u001b[31m⣿\u001b[39m\u001b[31m⣿\u001b[39m\u001b[90m│\u001b[39m \u001b[31m> 0\u001b[39m\n",
       "         \u001b[90m │\u001b[39m\u001b[31m⣿\u001b[39m\u001b[31m⣿\u001b[39m\u001b[31m⣿\u001b[39m\u001b[31m⣿\u001b[39m\u001b[31m⣿\u001b[39m\u001b[31m⣿\u001b[39m\u001b[31m⣿\u001b[39m\u001b[31m⣿\u001b[39m\u001b[31m⣿\u001b[39m\u001b[31m⣿\u001b[39m\u001b[31m⣿\u001b[39m\u001b[31m⣿\u001b[39m\u001b[31m⣿\u001b[39m\u001b[31m⣿\u001b[39m\u001b[31m⣿\u001b[39m\u001b[31m⣿\u001b[39m\u001b[31m⣿\u001b[39m\u001b[31m⣿\u001b[39m\u001b[31m⣿\u001b[39m\u001b[31m⣿\u001b[39m\u001b[31m⣿\u001b[39m\u001b[31m⣿\u001b[39m\u001b[31m⣿\u001b[39m\u001b[31m⣿\u001b[39m\u001b[31m⣿\u001b[39m\u001b[31m⣿\u001b[39m\u001b[31m⣿\u001b[39m\u001b[31m⣿\u001b[39m\u001b[31m⣿\u001b[39m\u001b[31m⣿\u001b[39m\u001b[31m⣿\u001b[39m\u001b[31m⣿\u001b[39m\u001b[31m⣿\u001b[39m\u001b[31m⣿\u001b[39m\u001b[31m⣿\u001b[39m\u001b[31m⣿\u001b[39m\u001b[31m⣿\u001b[39m\u001b[31m⣿\u001b[39m\u001b[31m⣿\u001b[39m\u001b[31m⣿\u001b[39m\u001b[31m⣿\u001b[39m\u001b[31m⣿\u001b[39m\u001b[90m│\u001b[39m \u001b[34m< 0\u001b[39m\n",
       "         \u001b[90m │\u001b[39m\u001b[31m⣿\u001b[39m\u001b[31m⣿\u001b[39m\u001b[31m⣿\u001b[39m\u001b[31m⣿\u001b[39m\u001b[31m⣿\u001b[39m\u001b[31m⣿\u001b[39m\u001b[31m⣿\u001b[39m\u001b[31m⣿\u001b[39m\u001b[31m⣿\u001b[39m\u001b[31m⣿\u001b[39m\u001b[31m⣿\u001b[39m\u001b[31m⣿\u001b[39m\u001b[31m⣿\u001b[39m\u001b[31m⣿\u001b[39m\u001b[31m⣿\u001b[39m\u001b[31m⣿\u001b[39m\u001b[31m⣿\u001b[39m\u001b[31m⣿\u001b[39m\u001b[31m⣿\u001b[39m\u001b[31m⣿\u001b[39m\u001b[31m⣿\u001b[39m\u001b[31m⣿\u001b[39m\u001b[31m⣿\u001b[39m\u001b[31m⣿\u001b[39m\u001b[31m⣿\u001b[39m\u001b[31m⣿\u001b[39m\u001b[31m⣿\u001b[39m\u001b[31m⣿\u001b[39m\u001b[31m⣿\u001b[39m\u001b[31m⣿\u001b[39m\u001b[31m⣿\u001b[39m\u001b[31m⣿\u001b[39m\u001b[31m⣿\u001b[39m\u001b[31m⣿\u001b[39m\u001b[31m⣿\u001b[39m\u001b[31m⣿\u001b[39m\u001b[31m⣿\u001b[39m\u001b[31m⣿\u001b[39m\u001b[31m⣿\u001b[39m\u001b[31m⣿\u001b[39m\u001b[31m⣿\u001b[39m\u001b[31m⣿\u001b[39m\u001b[90m│\u001b[39m    \n",
       "         \u001b[90m │\u001b[39m\u001b[31m⣿\u001b[39m\u001b[31m⣿\u001b[39m\u001b[31m⣿\u001b[39m\u001b[31m⣿\u001b[39m\u001b[31m⣿\u001b[39m\u001b[31m⣿\u001b[39m\u001b[31m⣿\u001b[39m\u001b[31m⣿\u001b[39m\u001b[31m⣿\u001b[39m\u001b[31m⣿\u001b[39m\u001b[31m⣿\u001b[39m\u001b[31m⣿\u001b[39m\u001b[31m⣿\u001b[39m\u001b[31m⣿\u001b[39m\u001b[31m⣿\u001b[39m\u001b[31m⣿\u001b[39m\u001b[31m⣿\u001b[39m\u001b[31m⣿\u001b[39m\u001b[31m⣿\u001b[39m\u001b[31m⣿\u001b[39m\u001b[31m⣿\u001b[39m\u001b[31m⣿\u001b[39m\u001b[31m⣿\u001b[39m\u001b[31m⣿\u001b[39m\u001b[31m⣿\u001b[39m\u001b[31m⣿\u001b[39m\u001b[31m⣿\u001b[39m\u001b[31m⣿\u001b[39m\u001b[31m⣿\u001b[39m\u001b[31m⣿\u001b[39m\u001b[31m⣿\u001b[39m\u001b[31m⣿\u001b[39m\u001b[31m⣿\u001b[39m\u001b[31m⣿\u001b[39m\u001b[31m⣿\u001b[39m\u001b[31m⣿\u001b[39m\u001b[31m⣿\u001b[39m\u001b[31m⣿\u001b[39m\u001b[31m⣿\u001b[39m\u001b[31m⣿\u001b[39m\u001b[31m⣿\u001b[39m\u001b[31m⣿\u001b[39m\u001b[90m│\u001b[39m    \n",
       "         \u001b[90m │\u001b[39m\u001b[31m⣿\u001b[39m\u001b[31m⣿\u001b[39m\u001b[31m⣿\u001b[39m\u001b[31m⣿\u001b[39m\u001b[31m⣿\u001b[39m\u001b[31m⣿\u001b[39m\u001b[31m⣿\u001b[39m\u001b[31m⣿\u001b[39m\u001b[31m⣿\u001b[39m\u001b[31m⣿\u001b[39m\u001b[31m⣿\u001b[39m\u001b[31m⣿\u001b[39m\u001b[31m⣿\u001b[39m\u001b[31m⣿\u001b[39m\u001b[31m⣿\u001b[39m\u001b[31m⣿\u001b[39m\u001b[31m⣿\u001b[39m\u001b[31m⣿\u001b[39m\u001b[31m⣿\u001b[39m\u001b[31m⣿\u001b[39m\u001b[31m⣿\u001b[39m\u001b[31m⣿\u001b[39m\u001b[31m⣿\u001b[39m\u001b[31m⣿\u001b[39m\u001b[31m⣿\u001b[39m\u001b[31m⣿\u001b[39m\u001b[31m⣿\u001b[39m\u001b[31m⣿\u001b[39m\u001b[31m⣿\u001b[39m\u001b[31m⣿\u001b[39m\u001b[31m⣿\u001b[39m\u001b[31m⣿\u001b[39m\u001b[31m⣿\u001b[39m\u001b[31m⣿\u001b[39m\u001b[31m⣿\u001b[39m\u001b[31m⣿\u001b[39m\u001b[31m⣿\u001b[39m\u001b[31m⣿\u001b[39m\u001b[31m⣿\u001b[39m\u001b[31m⣿\u001b[39m\u001b[31m⣿\u001b[39m\u001b[31m⣿\u001b[39m\u001b[90m│\u001b[39m    \n",
       "         \u001b[90m │\u001b[39m\u001b[31m⣿\u001b[39m\u001b[31m⣿\u001b[39m\u001b[31m⣿\u001b[39m\u001b[31m⣿\u001b[39m\u001b[31m⣿\u001b[39m\u001b[31m⣿\u001b[39m\u001b[31m⣿\u001b[39m\u001b[31m⣿\u001b[39m\u001b[31m⣿\u001b[39m\u001b[31m⣿\u001b[39m\u001b[31m⣿\u001b[39m\u001b[31m⣿\u001b[39m\u001b[31m⣿\u001b[39m\u001b[31m⣿\u001b[39m\u001b[31m⣿\u001b[39m\u001b[31m⣿\u001b[39m\u001b[31m⣿\u001b[39m\u001b[31m⣿\u001b[39m\u001b[31m⣿\u001b[39m\u001b[31m⣿\u001b[39m\u001b[31m⣿\u001b[39m\u001b[31m⣿\u001b[39m\u001b[31m⣿\u001b[39m\u001b[31m⣿\u001b[39m\u001b[31m⣿\u001b[39m\u001b[31m⣿\u001b[39m\u001b[31m⣿\u001b[39m\u001b[31m⣿\u001b[39m\u001b[31m⣿\u001b[39m\u001b[31m⣿\u001b[39m\u001b[31m⣿\u001b[39m\u001b[31m⣿\u001b[39m\u001b[31m⣿\u001b[39m\u001b[31m⣿\u001b[39m\u001b[31m⣿\u001b[39m\u001b[31m⣿\u001b[39m\u001b[31m⣿\u001b[39m\u001b[31m⣿\u001b[39m\u001b[31m⣿\u001b[39m\u001b[31m⣿\u001b[39m\u001b[31m⣿\u001b[39m\u001b[31m⣿\u001b[39m\u001b[90m│\u001b[39m    \n",
       "         \u001b[90m │\u001b[39m\u001b[31m⣿\u001b[39m\u001b[31m⣿\u001b[39m\u001b[31m⣿\u001b[39m\u001b[31m⣿\u001b[39m\u001b[31m⣿\u001b[39m\u001b[31m⣿\u001b[39m\u001b[31m⣿\u001b[39m\u001b[31m⣿\u001b[39m\u001b[31m⣿\u001b[39m\u001b[31m⣿\u001b[39m\u001b[31m⣿\u001b[39m\u001b[31m⣿\u001b[39m\u001b[31m⣿\u001b[39m\u001b[31m⣿\u001b[39m\u001b[31m⣿\u001b[39m\u001b[31m⣿\u001b[39m\u001b[31m⣿\u001b[39m\u001b[31m⣿\u001b[39m\u001b[31m⣿\u001b[39m\u001b[31m⣿\u001b[39m\u001b[31m⣿\u001b[39m\u001b[31m⣿\u001b[39m\u001b[31m⣿\u001b[39m\u001b[31m⣿\u001b[39m\u001b[31m⣿\u001b[39m\u001b[31m⣿\u001b[39m\u001b[31m⣿\u001b[39m\u001b[31m⣿\u001b[39m\u001b[31m⣿\u001b[39m\u001b[31m⣿\u001b[39m\u001b[31m⣿\u001b[39m\u001b[31m⣿\u001b[39m\u001b[31m⣿\u001b[39m\u001b[31m⣿\u001b[39m\u001b[31m⣿\u001b[39m\u001b[31m⣿\u001b[39m\u001b[31m⣿\u001b[39m\u001b[31m⣿\u001b[39m\u001b[31m⣿\u001b[39m\u001b[31m⣿\u001b[39m\u001b[31m⣿\u001b[39m\u001b[31m⣿\u001b[39m\u001b[90m│\u001b[39m    \n",
       "         \u001b[90m │\u001b[39m\u001b[31m⣿\u001b[39m\u001b[31m⣿\u001b[39m\u001b[31m⣿\u001b[39m\u001b[31m⣿\u001b[39m\u001b[31m⣿\u001b[39m\u001b[31m⣿\u001b[39m\u001b[31m⣿\u001b[39m\u001b[31m⣿\u001b[39m\u001b[31m⣿\u001b[39m\u001b[31m⣿\u001b[39m\u001b[31m⣿\u001b[39m\u001b[31m⣿\u001b[39m\u001b[31m⣿\u001b[39m\u001b[31m⣿\u001b[39m\u001b[31m⣿\u001b[39m\u001b[31m⣿\u001b[39m\u001b[31m⣿\u001b[39m\u001b[31m⣿\u001b[39m\u001b[31m⣿\u001b[39m\u001b[31m⣿\u001b[39m\u001b[31m⣿\u001b[39m\u001b[31m⣿\u001b[39m\u001b[31m⣿\u001b[39m\u001b[31m⣿\u001b[39m\u001b[31m⣿\u001b[39m\u001b[31m⣿\u001b[39m\u001b[31m⣿\u001b[39m\u001b[31m⣿\u001b[39m\u001b[31m⣿\u001b[39m\u001b[31m⣿\u001b[39m\u001b[31m⣿\u001b[39m\u001b[31m⣿\u001b[39m\u001b[31m⣿\u001b[39m\u001b[31m⣿\u001b[39m\u001b[31m⣿\u001b[39m\u001b[31m⣿\u001b[39m\u001b[31m⣿\u001b[39m\u001b[31m⣿\u001b[39m\u001b[31m⣿\u001b[39m\u001b[31m⣿\u001b[39m\u001b[31m⣿\u001b[39m\u001b[31m⣿\u001b[39m\u001b[90m│\u001b[39m    \n",
       "         \u001b[90m │\u001b[39m\u001b[31m⣿\u001b[39m\u001b[31m⣿\u001b[39m\u001b[31m⣿\u001b[39m\u001b[31m⣿\u001b[39m\u001b[31m⣿\u001b[39m\u001b[31m⣿\u001b[39m\u001b[31m⣿\u001b[39m\u001b[31m⣿\u001b[39m\u001b[31m⣿\u001b[39m\u001b[31m⣿\u001b[39m\u001b[31m⣿\u001b[39m\u001b[31m⣿\u001b[39m\u001b[31m⣿\u001b[39m\u001b[31m⣿\u001b[39m\u001b[31m⣿\u001b[39m\u001b[31m⣿\u001b[39m\u001b[31m⣿\u001b[39m\u001b[31m⣿\u001b[39m\u001b[31m⣿\u001b[39m\u001b[31m⣿\u001b[39m\u001b[31m⣿\u001b[39m\u001b[31m⣿\u001b[39m\u001b[31m⣿\u001b[39m\u001b[31m⣿\u001b[39m\u001b[31m⣿\u001b[39m\u001b[31m⣿\u001b[39m\u001b[31m⣿\u001b[39m\u001b[31m⣿\u001b[39m\u001b[31m⣿\u001b[39m\u001b[31m⣿\u001b[39m\u001b[31m⣿\u001b[39m\u001b[31m⣿\u001b[39m\u001b[31m⣿\u001b[39m\u001b[31m⣿\u001b[39m\u001b[31m⣿\u001b[39m\u001b[31m⣿\u001b[39m\u001b[31m⣿\u001b[39m\u001b[31m⣿\u001b[39m\u001b[31m⣿\u001b[39m\u001b[31m⣿\u001b[39m\u001b[31m⣿\u001b[39m\u001b[31m⣿\u001b[39m\u001b[90m│\u001b[39m    \n",
       "         \u001b[90m │\u001b[39m\u001b[31m⣿\u001b[39m\u001b[31m⣿\u001b[39m\u001b[31m⣿\u001b[39m\u001b[31m⣿\u001b[39m\u001b[31m⣿\u001b[39m\u001b[31m⣿\u001b[39m\u001b[31m⣿\u001b[39m\u001b[31m⣿\u001b[39m\u001b[31m⣿\u001b[39m\u001b[31m⣿\u001b[39m\u001b[31m⣿\u001b[39m\u001b[31m⣿\u001b[39m\u001b[31m⣿\u001b[39m\u001b[31m⣿\u001b[39m\u001b[31m⣿\u001b[39m\u001b[31m⣿\u001b[39m\u001b[31m⣿\u001b[39m\u001b[31m⣿\u001b[39m\u001b[31m⣿\u001b[39m\u001b[31m⣿\u001b[39m\u001b[31m⣿\u001b[39m\u001b[31m⣿\u001b[39m\u001b[31m⣿\u001b[39m\u001b[31m⣿\u001b[39m\u001b[31m⣿\u001b[39m\u001b[31m⣿\u001b[39m\u001b[31m⣿\u001b[39m\u001b[31m⣿\u001b[39m\u001b[31m⣿\u001b[39m\u001b[31m⣿\u001b[39m\u001b[31m⣿\u001b[39m\u001b[31m⣿\u001b[39m\u001b[31m⣿\u001b[39m\u001b[31m⣿\u001b[39m\u001b[31m⣿\u001b[39m\u001b[31m⣿\u001b[39m\u001b[31m⣿\u001b[39m\u001b[31m⣿\u001b[39m\u001b[31m⣿\u001b[39m\u001b[31m⣿\u001b[39m\u001b[31m⣿\u001b[39m\u001b[31m⣿\u001b[39m\u001b[90m│\u001b[39m    \n",
       "         \u001b[90m │\u001b[39m\u001b[31m⣿\u001b[39m\u001b[31m⣿\u001b[39m\u001b[31m⣿\u001b[39m\u001b[31m⣿\u001b[39m\u001b[31m⣿\u001b[39m\u001b[31m⣿\u001b[39m\u001b[31m⣿\u001b[39m\u001b[31m⣿\u001b[39m\u001b[31m⣿\u001b[39m\u001b[31m⣿\u001b[39m\u001b[31m⣿\u001b[39m\u001b[31m⣿\u001b[39m\u001b[31m⣿\u001b[39m\u001b[31m⣿\u001b[39m\u001b[31m⣿\u001b[39m\u001b[31m⣿\u001b[39m\u001b[31m⣿\u001b[39m\u001b[31m⣿\u001b[39m\u001b[31m⣿\u001b[39m\u001b[31m⣿\u001b[39m\u001b[31m⣿\u001b[39m\u001b[31m⣿\u001b[39m\u001b[31m⣿\u001b[39m\u001b[31m⣿\u001b[39m\u001b[31m⣿\u001b[39m\u001b[31m⣿\u001b[39m\u001b[31m⣿\u001b[39m\u001b[31m⣿\u001b[39m\u001b[31m⣿\u001b[39m\u001b[31m⣿\u001b[39m\u001b[31m⣿\u001b[39m\u001b[31m⣿\u001b[39m\u001b[31m⣿\u001b[39m\u001b[31m⣿\u001b[39m\u001b[31m⣿\u001b[39m\u001b[31m⣿\u001b[39m\u001b[31m⣿\u001b[39m\u001b[31m⣿\u001b[39m\u001b[31m⣿\u001b[39m\u001b[31m⣿\u001b[39m\u001b[31m⣿\u001b[39m\u001b[31m⣿\u001b[39m\u001b[90m│\u001b[39m    \n",
       "         \u001b[90m │\u001b[39m\u001b[31m⣿\u001b[39m\u001b[31m⣿\u001b[39m\u001b[31m⣿\u001b[39m\u001b[31m⣿\u001b[39m\u001b[31m⣿\u001b[39m\u001b[31m⣿\u001b[39m\u001b[31m⣿\u001b[39m\u001b[31m⣿\u001b[39m\u001b[31m⣿\u001b[39m\u001b[31m⣿\u001b[39m\u001b[31m⣿\u001b[39m\u001b[31m⣿\u001b[39m\u001b[31m⣿\u001b[39m\u001b[31m⣿\u001b[39m\u001b[31m⣿\u001b[39m\u001b[31m⣿\u001b[39m\u001b[31m⣿\u001b[39m\u001b[31m⣿\u001b[39m\u001b[31m⣿\u001b[39m\u001b[31m⣿\u001b[39m\u001b[31m⣿\u001b[39m\u001b[31m⣿\u001b[39m\u001b[31m⣿\u001b[39m\u001b[31m⣿\u001b[39m\u001b[31m⣿\u001b[39m\u001b[31m⣿\u001b[39m\u001b[31m⣿\u001b[39m\u001b[31m⣿\u001b[39m\u001b[31m⣿\u001b[39m\u001b[31m⣿\u001b[39m\u001b[31m⣿\u001b[39m\u001b[31m⣿\u001b[39m\u001b[31m⣿\u001b[39m\u001b[31m⣿\u001b[39m\u001b[31m⣿\u001b[39m\u001b[31m⣿\u001b[39m\u001b[31m⣿\u001b[39m\u001b[31m⣿\u001b[39m\u001b[31m⣿\u001b[39m\u001b[31m⣿\u001b[39m\u001b[31m⣿\u001b[39m\u001b[31m⣿\u001b[39m\u001b[90m│\u001b[39m    \n",
       "         \u001b[90m │\u001b[39m\u001b[31m⣿\u001b[39m\u001b[31m⣿\u001b[39m\u001b[31m⣿\u001b[39m\u001b[31m⣿\u001b[39m\u001b[31m⣿\u001b[39m\u001b[31m⣿\u001b[39m\u001b[31m⣿\u001b[39m\u001b[31m⣿\u001b[39m\u001b[31m⣿\u001b[39m\u001b[31m⣿\u001b[39m\u001b[31m⣿\u001b[39m\u001b[31m⣿\u001b[39m\u001b[31m⣿\u001b[39m\u001b[31m⣿\u001b[39m\u001b[31m⣿\u001b[39m\u001b[31m⣿\u001b[39m\u001b[31m⣿\u001b[39m\u001b[31m⣿\u001b[39m\u001b[31m⣿\u001b[39m\u001b[31m⣿\u001b[39m\u001b[31m⣿\u001b[39m\u001b[31m⣿\u001b[39m\u001b[31m⣿\u001b[39m\u001b[31m⣿\u001b[39m\u001b[31m⣿\u001b[39m\u001b[31m⣿\u001b[39m\u001b[31m⣿\u001b[39m\u001b[31m⣿\u001b[39m\u001b[31m⣿\u001b[39m\u001b[31m⣿\u001b[39m\u001b[31m⣿\u001b[39m\u001b[31m⣿\u001b[39m\u001b[31m⣿\u001b[39m\u001b[31m⣿\u001b[39m\u001b[31m⣿\u001b[39m\u001b[31m⣿\u001b[39m\u001b[31m⣿\u001b[39m\u001b[31m⣿\u001b[39m\u001b[31m⣿\u001b[39m\u001b[31m⣿\u001b[39m\u001b[31m⣿\u001b[39m\u001b[31m⣿\u001b[39m\u001b[90m│\u001b[39m    \n",
       "         \u001b[90m │\u001b[39m\u001b[31m⣿\u001b[39m\u001b[31m⣿\u001b[39m\u001b[31m⣿\u001b[39m\u001b[31m⣿\u001b[39m\u001b[31m⣿\u001b[39m\u001b[31m⣿\u001b[39m\u001b[31m⣿\u001b[39m\u001b[31m⣿\u001b[39m\u001b[31m⣿\u001b[39m\u001b[31m⣿\u001b[39m\u001b[31m⣿\u001b[39m\u001b[31m⣿\u001b[39m\u001b[31m⣿\u001b[39m\u001b[31m⣿\u001b[39m\u001b[31m⣿\u001b[39m\u001b[31m⣿\u001b[39m\u001b[31m⣿\u001b[39m\u001b[31m⣿\u001b[39m\u001b[31m⣿\u001b[39m\u001b[31m⣿\u001b[39m\u001b[31m⣿\u001b[39m\u001b[31m⣿\u001b[39m\u001b[31m⣿\u001b[39m\u001b[31m⣿\u001b[39m\u001b[31m⣿\u001b[39m\u001b[31m⣿\u001b[39m\u001b[31m⣿\u001b[39m\u001b[31m⣿\u001b[39m\u001b[31m⣿\u001b[39m\u001b[31m⣿\u001b[39m\u001b[31m⣿\u001b[39m\u001b[31m⣿\u001b[39m\u001b[31m⣿\u001b[39m\u001b[31m⣿\u001b[39m\u001b[31m⣿\u001b[39m\u001b[31m⣿\u001b[39m\u001b[31m⣿\u001b[39m\u001b[31m⣿\u001b[39m\u001b[31m⣿\u001b[39m\u001b[31m⣿\u001b[39m\u001b[31m⣿\u001b[39m\u001b[31m⣿\u001b[39m\u001b[90m│\u001b[39m    \n",
       "         \u001b[90m │\u001b[39m\u001b[31m⣿\u001b[39m\u001b[31m⣿\u001b[39m\u001b[31m⣿\u001b[39m\u001b[31m⣿\u001b[39m\u001b[31m⣿\u001b[39m\u001b[31m⣿\u001b[39m\u001b[31m⣿\u001b[39m\u001b[31m⣿\u001b[39m\u001b[31m⣿\u001b[39m\u001b[31m⣿\u001b[39m\u001b[31m⣿\u001b[39m\u001b[31m⣿\u001b[39m\u001b[31m⣿\u001b[39m\u001b[31m⣿\u001b[39m\u001b[31m⣿\u001b[39m\u001b[31m⣿\u001b[39m\u001b[31m⣿\u001b[39m\u001b[31m⣿\u001b[39m\u001b[31m⣿\u001b[39m\u001b[31m⣿\u001b[39m\u001b[31m⣿\u001b[39m\u001b[31m⣿\u001b[39m\u001b[31m⣿\u001b[39m\u001b[31m⣿\u001b[39m\u001b[31m⣿\u001b[39m\u001b[31m⣿\u001b[39m\u001b[31m⣿\u001b[39m\u001b[31m⣿\u001b[39m\u001b[31m⣿\u001b[39m\u001b[31m⣿\u001b[39m\u001b[31m⣿\u001b[39m\u001b[31m⣿\u001b[39m\u001b[31m⣿\u001b[39m\u001b[31m⣿\u001b[39m\u001b[31m⣿\u001b[39m\u001b[31m⣿\u001b[39m\u001b[31m⣿\u001b[39m\u001b[31m⣿\u001b[39m\u001b[31m⣿\u001b[39m\u001b[31m⣿\u001b[39m\u001b[31m⣿\u001b[39m\u001b[31m⣿\u001b[39m\u001b[90m│\u001b[39m    \n",
       "         \u001b[90m │\u001b[39m\u001b[31m⣿\u001b[39m\u001b[31m⣿\u001b[39m\u001b[31m⣿\u001b[39m\u001b[31m⣿\u001b[39m\u001b[31m⣿\u001b[39m\u001b[31m⣿\u001b[39m\u001b[31m⣿\u001b[39m\u001b[31m⣿\u001b[39m\u001b[31m⣿\u001b[39m\u001b[31m⣿\u001b[39m\u001b[31m⣿\u001b[39m\u001b[31m⣿\u001b[39m\u001b[31m⣿\u001b[39m\u001b[31m⣿\u001b[39m\u001b[31m⣿\u001b[39m\u001b[31m⣿\u001b[39m\u001b[31m⣿\u001b[39m\u001b[31m⣿\u001b[39m\u001b[31m⣿\u001b[39m\u001b[31m⣿\u001b[39m\u001b[31m⣿\u001b[39m\u001b[31m⣿\u001b[39m\u001b[31m⣿\u001b[39m\u001b[31m⣿\u001b[39m\u001b[31m⣿\u001b[39m\u001b[31m⣿\u001b[39m\u001b[31m⣿\u001b[39m\u001b[31m⣿\u001b[39m\u001b[31m⣿\u001b[39m\u001b[31m⣿\u001b[39m\u001b[31m⣿\u001b[39m\u001b[31m⣿\u001b[39m\u001b[31m⣿\u001b[39m\u001b[31m⣿\u001b[39m\u001b[31m⣿\u001b[39m\u001b[31m⣿\u001b[39m\u001b[31m⣿\u001b[39m\u001b[31m⣿\u001b[39m\u001b[31m⣿\u001b[39m\u001b[31m⣿\u001b[39m\u001b[31m⣿\u001b[39m\u001b[31m⣿\u001b[39m\u001b[90m│\u001b[39m    \n",
       "         \u001b[90m │\u001b[39m\u001b[31m⣿\u001b[39m\u001b[31m⣿\u001b[39m\u001b[31m⣿\u001b[39m\u001b[31m⣿\u001b[39m\u001b[31m⣿\u001b[39m\u001b[31m⣿\u001b[39m\u001b[31m⣿\u001b[39m\u001b[31m⣿\u001b[39m\u001b[31m⣿\u001b[39m\u001b[31m⣿\u001b[39m\u001b[31m⣿\u001b[39m\u001b[31m⣿\u001b[39m\u001b[31m⣿\u001b[39m\u001b[31m⣿\u001b[39m\u001b[31m⣿\u001b[39m\u001b[31m⣿\u001b[39m\u001b[31m⣿\u001b[39m\u001b[31m⣿\u001b[39m\u001b[31m⣿\u001b[39m\u001b[31m⣿\u001b[39m\u001b[31m⣿\u001b[39m\u001b[31m⣿\u001b[39m\u001b[31m⣿\u001b[39m\u001b[31m⣿\u001b[39m\u001b[31m⣿\u001b[39m\u001b[31m⣿\u001b[39m\u001b[31m⣿\u001b[39m\u001b[31m⣿\u001b[39m\u001b[31m⣿\u001b[39m\u001b[31m⣿\u001b[39m\u001b[31m⣿\u001b[39m\u001b[31m⣿\u001b[39m\u001b[31m⣿\u001b[39m\u001b[31m⣿\u001b[39m\u001b[31m⣿\u001b[39m\u001b[31m⣿\u001b[39m\u001b[31m⣿\u001b[39m\u001b[31m⣿\u001b[39m\u001b[31m⣿\u001b[39m\u001b[31m⣿\u001b[39m\u001b[31m⣿\u001b[39m\u001b[31m⣿\u001b[39m\u001b[90m│\u001b[39m    \n",
       "         \u001b[90m │\u001b[39m\u001b[31m⣿\u001b[39m\u001b[31m⣿\u001b[39m\u001b[31m⣿\u001b[39m\u001b[31m⣿\u001b[39m\u001b[31m⣿\u001b[39m\u001b[31m⣿\u001b[39m\u001b[31m⣿\u001b[39m\u001b[31m⣿\u001b[39m\u001b[31m⣿\u001b[39m\u001b[31m⣿\u001b[39m\u001b[31m⣿\u001b[39m\u001b[31m⣿\u001b[39m\u001b[31m⣿\u001b[39m\u001b[31m⣿\u001b[39m\u001b[31m⣿\u001b[39m\u001b[31m⣿\u001b[39m\u001b[31m⣿\u001b[39m\u001b[31m⣿\u001b[39m\u001b[31m⣿\u001b[39m\u001b[31m⣿\u001b[39m\u001b[31m⣿\u001b[39m\u001b[31m⣿\u001b[39m\u001b[31m⣿\u001b[39m\u001b[31m⣿\u001b[39m\u001b[31m⣿\u001b[39m\u001b[31m⣿\u001b[39m\u001b[31m⣿\u001b[39m\u001b[31m⣿\u001b[39m\u001b[31m⣿\u001b[39m\u001b[31m⣿\u001b[39m\u001b[31m⣿\u001b[39m\u001b[31m⣿\u001b[39m\u001b[31m⣿\u001b[39m\u001b[31m⣿\u001b[39m\u001b[31m⣿\u001b[39m\u001b[31m⣿\u001b[39m\u001b[31m⣿\u001b[39m\u001b[31m⣿\u001b[39m\u001b[31m⣿\u001b[39m\u001b[31m⣿\u001b[39m\u001b[31m⣿\u001b[39m\u001b[31m⣿\u001b[39m\u001b[90m│\u001b[39m    \n",
       "         \u001b[90m │\u001b[39m\u001b[31m⣿\u001b[39m\u001b[31m⣿\u001b[39m\u001b[31m⣿\u001b[39m\u001b[31m⣿\u001b[39m\u001b[31m⣿\u001b[39m\u001b[31m⣿\u001b[39m\u001b[31m⣿\u001b[39m\u001b[31m⣿\u001b[39m\u001b[31m⣿\u001b[39m\u001b[31m⣿\u001b[39m\u001b[31m⣿\u001b[39m\u001b[31m⣿\u001b[39m\u001b[31m⣿\u001b[39m\u001b[31m⣿\u001b[39m\u001b[31m⣿\u001b[39m\u001b[31m⣿\u001b[39m\u001b[31m⣿\u001b[39m\u001b[31m⣿\u001b[39m\u001b[31m⣿\u001b[39m\u001b[31m⣿\u001b[39m\u001b[31m⣿\u001b[39m\u001b[31m⣿\u001b[39m\u001b[31m⣿\u001b[39m\u001b[31m⣿\u001b[39m\u001b[31m⣿\u001b[39m\u001b[31m⣿\u001b[39m\u001b[31m⣿\u001b[39m\u001b[31m⣿\u001b[39m\u001b[31m⣿\u001b[39m\u001b[31m⣿\u001b[39m\u001b[31m⣿\u001b[39m\u001b[31m⣿\u001b[39m\u001b[31m⣿\u001b[39m\u001b[31m⣿\u001b[39m\u001b[31m⣿\u001b[39m\u001b[31m⣿\u001b[39m\u001b[31m⣿\u001b[39m\u001b[31m⣿\u001b[39m\u001b[31m⣿\u001b[39m\u001b[31m⣿\u001b[39m\u001b[31m⣿\u001b[39m\u001b[31m⣿\u001b[39m\u001b[90m│\u001b[39m    \n",
       "         \u001b[90m │\u001b[39m\u001b[31m⣿\u001b[39m\u001b[31m⣿\u001b[39m\u001b[31m⣿\u001b[39m\u001b[31m⣿\u001b[39m\u001b[31m⣿\u001b[39m\u001b[31m⣿\u001b[39m\u001b[31m⣿\u001b[39m\u001b[31m⣿\u001b[39m\u001b[31m⣿\u001b[39m\u001b[31m⣿\u001b[39m\u001b[31m⣿\u001b[39m\u001b[31m⣿\u001b[39m\u001b[31m⣿\u001b[39m\u001b[31m⣿\u001b[39m\u001b[31m⣿\u001b[39m\u001b[31m⣿\u001b[39m\u001b[31m⣿\u001b[39m\u001b[31m⣿\u001b[39m\u001b[31m⣿\u001b[39m\u001b[31m⣿\u001b[39m\u001b[31m⣿\u001b[39m\u001b[31m⣿\u001b[39m\u001b[31m⣿\u001b[39m\u001b[31m⣿\u001b[39m\u001b[31m⣿\u001b[39m\u001b[31m⣿\u001b[39m\u001b[31m⣿\u001b[39m\u001b[31m⣿\u001b[39m\u001b[31m⣿\u001b[39m\u001b[31m⣿\u001b[39m\u001b[31m⣿\u001b[39m\u001b[31m⣿\u001b[39m\u001b[31m⣿\u001b[39m\u001b[31m⣿\u001b[39m\u001b[31m⣿\u001b[39m\u001b[31m⣿\u001b[39m\u001b[31m⣿\u001b[39m\u001b[31m⣿\u001b[39m\u001b[31m⣿\u001b[39m\u001b[31m⣿\u001b[39m\u001b[31m⣿\u001b[39m\u001b[31m⣿\u001b[39m\u001b[90m│\u001b[39m    \n",
       "   \u001b[90m500000\u001b[39m\u001b[90m │\u001b[39m\u001b[31m⣿\u001b[39m\u001b[31m⣿\u001b[39m\u001b[31m⣿\u001b[39m\u001b[31m⣿\u001b[39m\u001b[31m⣿\u001b[39m\u001b[31m⣿\u001b[39m\u001b[31m⣿\u001b[39m\u001b[31m⣿\u001b[39m\u001b[31m⣿\u001b[39m\u001b[31m⣿\u001b[39m\u001b[31m⣿\u001b[39m\u001b[31m⣿\u001b[39m\u001b[31m⣿\u001b[39m\u001b[31m⣿\u001b[39m\u001b[31m⣿\u001b[39m\u001b[31m⣿\u001b[39m\u001b[31m⣿\u001b[39m\u001b[31m⣿\u001b[39m\u001b[31m⣿\u001b[39m\u001b[31m⣿\u001b[39m\u001b[31m⣿\u001b[39m\u001b[31m⣿\u001b[39m\u001b[31m⣿\u001b[39m\u001b[31m⣿\u001b[39m\u001b[31m⣿\u001b[39m\u001b[31m⣿\u001b[39m\u001b[31m⣿\u001b[39m\u001b[31m⣿\u001b[39m\u001b[31m⣿\u001b[39m\u001b[31m⣿\u001b[39m\u001b[31m⣿\u001b[39m\u001b[31m⣿\u001b[39m\u001b[31m⣿\u001b[39m\u001b[31m⣿\u001b[39m\u001b[31m⣿\u001b[39m\u001b[31m⣿\u001b[39m\u001b[31m⣿\u001b[39m\u001b[31m⣿\u001b[39m\u001b[31m⣿\u001b[39m\u001b[31m⣿\u001b[39m\u001b[31m⣿\u001b[39m\u001b[31m⣿\u001b[39m\u001b[90m│\u001b[39m    \n",
       "\u001b[90m          └──────────────────────────────────────────┘\u001b[39m    \n",
       "\u001b[90m          1\u001b[39m\u001b[90m                    \u001b[39m\u001b[90m                 500000\u001b[39m\n",
       "\u001b[0m                          nz = 998420"
      ]
     },
     "metadata": {},
     "output_type": "display_data"
    },
    {
     "data": {
      "text/plain": [
       "\u001b[1m                       Sparsity Pattern\u001b[22m\n",
       "\u001b[90m          ┌──────────────────────────────────────────┐\u001b[39m    \n",
       "        \u001b[90m1\u001b[39m\u001b[90m │\u001b[39m\u001b[31m⠛\u001b[39m\u001b[31m⣤\u001b[39m\u001b[0m⠀\u001b[0m⠀\u001b[0m⠀\u001b[0m⠀\u001b[0m⠀\u001b[0m⠀\u001b[0m⠀\u001b[0m⠀\u001b[0m⠀\u001b[0m⠀\u001b[0m⠀\u001b[0m⠀\u001b[0m⠀\u001b[0m⠀\u001b[0m⠀\u001b[0m⠀\u001b[0m⠀\u001b[0m⠀\u001b[0m⠀\u001b[0m⠀\u001b[0m⠀\u001b[0m⠀\u001b[0m⠀\u001b[0m⠀\u001b[0m⠀\u001b[0m⠀\u001b[0m⠀\u001b[0m⠀\u001b[0m⠀\u001b[0m⠀\u001b[0m⠀\u001b[0m⠀\u001b[0m⠀\u001b[0m⠀\u001b[0m⠀\u001b[0m⠀\u001b[0m⠀\u001b[0m⠀\u001b[0m⠀\u001b[0m⠀\u001b[90m│\u001b[39m \u001b[31m> 0\u001b[39m\n",
       "         \u001b[90m │\u001b[39m\u001b[0m⠀\u001b[0m⠀\u001b[31m⠻\u001b[39m\u001b[31m⣦\u001b[39m\u001b[31m⣄\u001b[39m\u001b[31m⡀\u001b[39m\u001b[0m⠀\u001b[0m⠀\u001b[0m⠀\u001b[0m⠀\u001b[0m⠀\u001b[0m⠀\u001b[0m⠀\u001b[0m⠀\u001b[0m⠀\u001b[0m⠀\u001b[0m⠀\u001b[0m⠀\u001b[0m⠀\u001b[0m⠀\u001b[0m⠀\u001b[0m⠀\u001b[0m⠀\u001b[0m⠀\u001b[0m⠀\u001b[0m⠀\u001b[0m⠀\u001b[0m⠀\u001b[0m⠀\u001b[0m⠀\u001b[0m⠀\u001b[0m⠀\u001b[0m⠀\u001b[0m⠀\u001b[0m⠀\u001b[0m⠀\u001b[0m⠀\u001b[0m⠀\u001b[0m⠀\u001b[0m⠀\u001b[0m⠀\u001b[0m⠀\u001b[90m│\u001b[39m \u001b[34m< 0\u001b[39m\n",
       "         \u001b[90m │\u001b[39m\u001b[0m⠀\u001b[0m⠀\u001b[0m⠀\u001b[31m⠹\u001b[39m\u001b[31m⣿\u001b[39m\u001b[31m⣿\u001b[39m\u001b[31m⣷\u001b[39m\u001b[31m⣦\u001b[39m\u001b[31m⣄\u001b[39m\u001b[31m⡀\u001b[39m\u001b[0m⠀\u001b[0m⠀\u001b[0m⠀\u001b[0m⠀\u001b[0m⠀\u001b[0m⠀\u001b[0m⠀\u001b[0m⠀\u001b[0m⠀\u001b[0m⠀\u001b[0m⠀\u001b[0m⠀\u001b[0m⠀\u001b[0m⠀\u001b[0m⠀\u001b[0m⠀\u001b[0m⠀\u001b[0m⠀\u001b[0m⠀\u001b[0m⠀\u001b[0m⠀\u001b[0m⠀\u001b[0m⠀\u001b[0m⠀\u001b[0m⠀\u001b[0m⠀\u001b[0m⠀\u001b[0m⠀\u001b[0m⠀\u001b[0m⠀\u001b[0m⠀\u001b[0m⠀\u001b[90m│\u001b[39m    \n",
       "         \u001b[90m │\u001b[39m\u001b[0m⠀\u001b[0m⠀\u001b[0m⠀\u001b[0m⠀\u001b[31m⠹\u001b[39m\u001b[31m⣿\u001b[39m\u001b[31m⣿\u001b[39m\u001b[31m⣿\u001b[39m\u001b[31m⣿\u001b[39m\u001b[31m⣿\u001b[39m\u001b[31m⣷\u001b[39m\u001b[31m⣦\u001b[39m\u001b[31m⣀\u001b[39m\u001b[0m⠀\u001b[0m⠀\u001b[0m⠀\u001b[0m⠀\u001b[0m⠀\u001b[0m⠀\u001b[0m⠀\u001b[0m⠀\u001b[0m⠀\u001b[0m⠀\u001b[0m⠀\u001b[0m⠀\u001b[0m⠀\u001b[0m⠀\u001b[0m⠀\u001b[0m⠀\u001b[0m⠀\u001b[0m⠀\u001b[0m⠀\u001b[0m⠀\u001b[0m⠀\u001b[0m⠀\u001b[0m⠀\u001b[0m⠀\u001b[0m⠀\u001b[0m⠀\u001b[0m⠀\u001b[0m⠀\u001b[0m⠀\u001b[90m│\u001b[39m    \n",
       "         \u001b[90m │\u001b[39m\u001b[0m⠀\u001b[0m⠀\u001b[0m⠀\u001b[0m⠀\u001b[0m⠀\u001b[31m⠹\u001b[39m\u001b[31m⣿\u001b[39m\u001b[31m⣿\u001b[39m\u001b[31m⣿\u001b[39m\u001b[31m⣿\u001b[39m\u001b[31m⣿\u001b[39m\u001b[31m⣿\u001b[39m\u001b[31m⣿\u001b[39m\u001b[31m⣷\u001b[39m\u001b[31m⣦\u001b[39m\u001b[31m⣀\u001b[39m\u001b[0m⠀\u001b[0m⠀\u001b[0m⠀\u001b[0m⠀\u001b[0m⠀\u001b[0m⠀\u001b[0m⠀\u001b[0m⠀\u001b[0m⠀\u001b[0m⠀\u001b[0m⠀\u001b[0m⠀\u001b[0m⠀\u001b[0m⠀\u001b[0m⠀\u001b[0m⠀\u001b[0m⠀\u001b[0m⠀\u001b[0m⠀\u001b[0m⠀\u001b[0m⠀\u001b[0m⠀\u001b[0m⠀\u001b[0m⠀\u001b[0m⠀\u001b[0m⠀\u001b[90m│\u001b[39m    \n",
       "         \u001b[90m │\u001b[39m\u001b[0m⠀\u001b[0m⠀\u001b[0m⠀\u001b[0m⠀\u001b[0m⠀\u001b[0m⠀\u001b[31m⠹\u001b[39m\u001b[31m⣿\u001b[39m\u001b[31m⣿\u001b[39m\u001b[31m⣿\u001b[39m\u001b[31m⣿\u001b[39m\u001b[31m⣿\u001b[39m\u001b[31m⣿\u001b[39m\u001b[31m⣿\u001b[39m\u001b[31m⣿\u001b[39m\u001b[31m⣿\u001b[39m\u001b[31m⣷\u001b[39m\u001b[31m⣄\u001b[39m\u001b[31m⡀\u001b[39m\u001b[0m⠀\u001b[0m⠀\u001b[0m⠀\u001b[0m⠀\u001b[0m⠀\u001b[0m⠀\u001b[0m⠀\u001b[0m⠀\u001b[0m⠀\u001b[0m⠀\u001b[0m⠀\u001b[0m⠀\u001b[0m⠀\u001b[0m⠀\u001b[0m⠀\u001b[0m⠀\u001b[0m⠀\u001b[0m⠀\u001b[0m⠀\u001b[0m⠀\u001b[0m⠀\u001b[0m⠀\u001b[0m⠀\u001b[90m│\u001b[39m    \n",
       "         \u001b[90m │\u001b[39m\u001b[0m⠀\u001b[0m⠀\u001b[0m⠀\u001b[0m⠀\u001b[0m⠀\u001b[0m⠀\u001b[0m⠀\u001b[31m⠘\u001b[39m\u001b[31m⢿\u001b[39m\u001b[31m⣿\u001b[39m\u001b[31m⣿\u001b[39m\u001b[31m⣿\u001b[39m\u001b[31m⣿\u001b[39m\u001b[31m⣿\u001b[39m\u001b[31m⣿\u001b[39m\u001b[31m⣿\u001b[39m\u001b[31m⣿\u001b[39m\u001b[31m⣿\u001b[39m\u001b[31m⣿\u001b[39m\u001b[31m⣦\u001b[39m\u001b[31m⡀\u001b[39m\u001b[0m⠀\u001b[0m⠀\u001b[0m⠀\u001b[0m⠀\u001b[0m⠀\u001b[0m⠀\u001b[0m⠀\u001b[0m⠀\u001b[0m⠀\u001b[0m⠀\u001b[0m⠀\u001b[0m⠀\u001b[0m⠀\u001b[0m⠀\u001b[0m⠀\u001b[0m⠀\u001b[0m⠀\u001b[0m⠀\u001b[0m⠀\u001b[0m⠀\u001b[0m⠀\u001b[90m│\u001b[39m    \n",
       "         \u001b[90m │\u001b[39m\u001b[0m⠀\u001b[0m⠀\u001b[0m⠀\u001b[0m⠀\u001b[0m⠀\u001b[0m⠀\u001b[0m⠀\u001b[0m⠀\u001b[31m⠈\u001b[39m\u001b[31m⢻\u001b[39m\u001b[31m⣿\u001b[39m\u001b[31m⣿\u001b[39m\u001b[31m⣿\u001b[39m\u001b[31m⣿\u001b[39m\u001b[31m⣿\u001b[39m\u001b[31m⣿\u001b[39m\u001b[31m⣿\u001b[39m\u001b[31m⣿\u001b[39m\u001b[31m⣿\u001b[39m\u001b[31m⣿\u001b[39m\u001b[31m⣿\u001b[39m\u001b[31m⣦\u001b[39m\u001b[31m⡀\u001b[39m\u001b[0m⠀\u001b[0m⠀\u001b[0m⠀\u001b[0m⠀\u001b[0m⠀\u001b[0m⠀\u001b[0m⠀\u001b[0m⠀\u001b[0m⠀\u001b[0m⠀\u001b[0m⠀\u001b[0m⠀\u001b[0m⠀\u001b[0m⠀\u001b[0m⠀\u001b[0m⠀\u001b[0m⠀\u001b[0m⠀\u001b[0m⠀\u001b[90m│\u001b[39m    \n",
       "         \u001b[90m │\u001b[39m\u001b[0m⠀\u001b[0m⠀\u001b[0m⠀\u001b[0m⠀\u001b[0m⠀\u001b[0m⠀\u001b[0m⠀\u001b[0m⠀\u001b[0m⠀\u001b[0m⠀\u001b[31m⠙\u001b[39m\u001b[31m⢿\u001b[39m\u001b[31m⣿\u001b[39m\u001b[31m⣿\u001b[39m\u001b[31m⣿\u001b[39m\u001b[31m⣿\u001b[39m\u001b[31m⣿\u001b[39m\u001b[31m⣿\u001b[39m\u001b[31m⣿\u001b[39m\u001b[31m⣿\u001b[39m\u001b[31m⣿\u001b[39m\u001b[31m⣿\u001b[39m\u001b[31m⣿\u001b[39m\u001b[31m⣦\u001b[39m\u001b[31m⡀\u001b[39m\u001b[0m⠀\u001b[0m⠀\u001b[0m⠀\u001b[0m⠀\u001b[0m⠀\u001b[0m⠀\u001b[0m⠀\u001b[0m⠀\u001b[0m⠀\u001b[0m⠀\u001b[0m⠀\u001b[0m⠀\u001b[0m⠀\u001b[0m⠀\u001b[0m⠀\u001b[0m⠀\u001b[0m⠀\u001b[90m│\u001b[39m    \n",
       "         \u001b[90m │\u001b[39m\u001b[0m⠀\u001b[0m⠀\u001b[0m⠀\u001b[0m⠀\u001b[0m⠀\u001b[0m⠀\u001b[0m⠀\u001b[0m⠀\u001b[0m⠀\u001b[0m⠀\u001b[0m⠀\u001b[31m⠈\u001b[39m\u001b[31m⠻\u001b[39m\u001b[31m⣿\u001b[39m\u001b[31m⣿\u001b[39m\u001b[31m⣿\u001b[39m\u001b[31m⣿\u001b[39m\u001b[31m⣿\u001b[39m\u001b[31m⣿\u001b[39m\u001b[31m⣿\u001b[39m\u001b[31m⣿\u001b[39m\u001b[31m⣿\u001b[39m\u001b[31m⣿\u001b[39m\u001b[31m⣿\u001b[39m\u001b[31m⣿\u001b[39m\u001b[31m⣦\u001b[39m\u001b[0m⠀\u001b[0m⠀\u001b[0m⠀\u001b[0m⠀\u001b[0m⠀\u001b[0m⠀\u001b[0m⠀\u001b[0m⠀\u001b[0m⠀\u001b[0m⠀\u001b[0m⠀\u001b[0m⠀\u001b[0m⠀\u001b[0m⠀\u001b[0m⠀\u001b[0m⠀\u001b[90m│\u001b[39m    \n",
       "         \u001b[90m │\u001b[39m\u001b[0m⠀\u001b[0m⠀\u001b[0m⠀\u001b[0m⠀\u001b[0m⠀\u001b[0m⠀\u001b[0m⠀\u001b[0m⠀\u001b[0m⠀\u001b[0m⠀\u001b[0m⠀\u001b[0m⠀\u001b[0m⠀\u001b[31m⠈\u001b[39m\u001b[31m⠻\u001b[39m\u001b[31m⣿\u001b[39m\u001b[31m⣿\u001b[39m\u001b[31m⣿\u001b[39m\u001b[31m⣿\u001b[39m\u001b[31m⣿\u001b[39m\u001b[31m⣿\u001b[39m\u001b[31m⣿\u001b[39m\u001b[31m⣿\u001b[39m\u001b[31m⣿\u001b[39m\u001b[31m⣿\u001b[39m\u001b[31m⣿\u001b[39m\u001b[31m⣷\u001b[39m\u001b[31m⣄\u001b[39m\u001b[0m⠀\u001b[0m⠀\u001b[0m⠀\u001b[0m⠀\u001b[0m⠀\u001b[0m⠀\u001b[0m⠀\u001b[0m⠀\u001b[0m⠀\u001b[0m⠀\u001b[0m⠀\u001b[0m⠀\u001b[0m⠀\u001b[0m⠀\u001b[90m│\u001b[39m    \n",
       "         \u001b[90m │\u001b[39m\u001b[0m⠀\u001b[0m⠀\u001b[0m⠀\u001b[0m⠀\u001b[0m⠀\u001b[0m⠀\u001b[0m⠀\u001b[0m⠀\u001b[0m⠀\u001b[0m⠀\u001b[0m⠀\u001b[0m⠀\u001b[0m⠀\u001b[0m⠀\u001b[0m⠀\u001b[31m⠈\u001b[39m\u001b[31m⠻\u001b[39m\u001b[31m⣿\u001b[39m\u001b[31m⣿\u001b[39m\u001b[31m⣿\u001b[39m\u001b[31m⣿\u001b[39m\u001b[31m⣿\u001b[39m\u001b[31m⣿\u001b[39m\u001b[31m⣿\u001b[39m\u001b[31m⣿\u001b[39m\u001b[31m⣿\u001b[39m\u001b[31m⣿\u001b[39m\u001b[31m⣿\u001b[39m\u001b[31m⣦\u001b[39m\u001b[31m⡀\u001b[39m\u001b[0m⠀\u001b[0m⠀\u001b[0m⠀\u001b[0m⠀\u001b[0m⠀\u001b[0m⠀\u001b[0m⠀\u001b[0m⠀\u001b[0m⠀\u001b[0m⠀\u001b[0m⠀\u001b[0m⠀\u001b[90m│\u001b[39m    \n",
       "         \u001b[90m │\u001b[39m\u001b[0m⠀\u001b[0m⠀\u001b[0m⠀\u001b[0m⠀\u001b[0m⠀\u001b[0m⠀\u001b[0m⠀\u001b[0m⠀\u001b[0m⠀\u001b[0m⠀\u001b[0m⠀\u001b[0m⠀\u001b[0m⠀\u001b[0m⠀\u001b[0m⠀\u001b[0m⠀\u001b[0m⠀\u001b[31m⠈\u001b[39m\u001b[31m⠻\u001b[39m\u001b[31m⣿\u001b[39m\u001b[31m⣿\u001b[39m\u001b[31m⣿\u001b[39m\u001b[31m⣿\u001b[39m\u001b[31m⣿\u001b[39m\u001b[31m⣿\u001b[39m\u001b[31m⣿\u001b[39m\u001b[31m⣿\u001b[39m\u001b[31m⣿\u001b[39m\u001b[31m⣿\u001b[39m\u001b[31m⣷\u001b[39m\u001b[31m⡄\u001b[39m\u001b[0m⠀\u001b[0m⠀\u001b[0m⠀\u001b[0m⠀\u001b[0m⠀\u001b[0m⠀\u001b[0m⠀\u001b[0m⠀\u001b[0m⠀\u001b[0m⠀\u001b[0m⠀\u001b[90m│\u001b[39m    \n",
       "         \u001b[90m │\u001b[39m\u001b[0m⠀\u001b[0m⠀\u001b[0m⠀\u001b[0m⠀\u001b[0m⠀\u001b[0m⠀\u001b[0m⠀\u001b[0m⠀\u001b[0m⠀\u001b[0m⠀\u001b[0m⠀\u001b[0m⠀\u001b[0m⠀\u001b[0m⠀\u001b[0m⠀\u001b[0m⠀\u001b[0m⠀\u001b[0m⠀\u001b[0m⠀\u001b[0m⠀\u001b[31m⠙\u001b[39m\u001b[31m⢿\u001b[39m\u001b[31m⣿\u001b[39m\u001b[31m⣿\u001b[39m\u001b[31m⣿\u001b[39m\u001b[31m⣿\u001b[39m\u001b[31m⣿\u001b[39m\u001b[31m⣿\u001b[39m\u001b[31m⣿\u001b[39m\u001b[31m⣿\u001b[39m\u001b[31m⣿\u001b[39m\u001b[31m⣆\u001b[39m\u001b[0m⠀\u001b[0m⠀\u001b[0m⠀\u001b[0m⠀\u001b[0m⠀\u001b[0m⠀\u001b[0m⠀\u001b[0m⠀\u001b[0m⠀\u001b[0m⠀\u001b[90m│\u001b[39m    \n",
       "         \u001b[90m │\u001b[39m\u001b[0m⠀\u001b[0m⠀\u001b[0m⠀\u001b[0m⠀\u001b[0m⠀\u001b[0m⠀\u001b[0m⠀\u001b[0m⠀\u001b[0m⠀\u001b[0m⠀\u001b[0m⠀\u001b[0m⠀\u001b[0m⠀\u001b[0m⠀\u001b[0m⠀\u001b[0m⠀\u001b[0m⠀\u001b[0m⠀\u001b[0m⠀\u001b[0m⠀\u001b[0m⠀\u001b[0m⠀\u001b[31m⠈\u001b[39m\u001b[31m⠻\u001b[39m\u001b[31m⢿\u001b[39m\u001b[31m⣿\u001b[39m\u001b[31m⣿\u001b[39m\u001b[31m⣿\u001b[39m\u001b[31m⣿\u001b[39m\u001b[31m⣿\u001b[39m\u001b[31m⣿\u001b[39m\u001b[31m⣿\u001b[39m\u001b[31m⣦\u001b[39m\u001b[0m⠀\u001b[0m⠀\u001b[0m⠀\u001b[0m⠀\u001b[0m⠀\u001b[0m⠀\u001b[0m⠀\u001b[0m⠀\u001b[0m⠀\u001b[90m│\u001b[39m    \n",
       "         \u001b[90m │\u001b[39m\u001b[0m⠀\u001b[0m⠀\u001b[0m⠀\u001b[0m⠀\u001b[0m⠀\u001b[0m⠀\u001b[0m⠀\u001b[0m⠀\u001b[0m⠀\u001b[0m⠀\u001b[0m⠀\u001b[0m⠀\u001b[0m⠀\u001b[0m⠀\u001b[0m⠀\u001b[0m⠀\u001b[0m⠀\u001b[0m⠀\u001b[0m⠀\u001b[0m⠀\u001b[0m⠀\u001b[0m⠀\u001b[0m⠀\u001b[0m⠀\u001b[0m⠀\u001b[31m⠉\u001b[39m\u001b[31m⠻\u001b[39m\u001b[31m⢿\u001b[39m\u001b[31m⣿\u001b[39m\u001b[31m⣿\u001b[39m\u001b[31m⣿\u001b[39m\u001b[31m⣿\u001b[39m\u001b[31m⣿\u001b[39m\u001b[31m⣧\u001b[39m\u001b[31m⡀\u001b[39m\u001b[0m⠀\u001b[0m⠀\u001b[0m⠀\u001b[0m⠀\u001b[0m⠀\u001b[0m⠀\u001b[0m⠀\u001b[90m│\u001b[39m    \n",
       "         \u001b[90m │\u001b[39m\u001b[0m⠀\u001b[0m⠀\u001b[0m⠀\u001b[0m⠀\u001b[0m⠀\u001b[0m⠀\u001b[0m⠀\u001b[0m⠀\u001b[0m⠀\u001b[0m⠀\u001b[0m⠀\u001b[0m⠀\u001b[0m⠀\u001b[0m⠀\u001b[0m⠀\u001b[0m⠀\u001b[0m⠀\u001b[0m⠀\u001b[0m⠀\u001b[0m⠀\u001b[0m⠀\u001b[0m⠀\u001b[0m⠀\u001b[0m⠀\u001b[0m⠀\u001b[0m⠀\u001b[0m⠀\u001b[0m⠀\u001b[31m⠈\u001b[39m\u001b[31m⠛\u001b[39m\u001b[31m⠿\u001b[39m\u001b[31m⣿\u001b[39m\u001b[31m⣿\u001b[39m\u001b[31m⣿\u001b[39m\u001b[31m⣷\u001b[39m\u001b[31m⡀\u001b[39m\u001b[0m⠀\u001b[0m⠀\u001b[0m⠀\u001b[0m⠀\u001b[0m⠀\u001b[0m⠀\u001b[90m│\u001b[39m    \n",
       "         \u001b[90m │\u001b[39m\u001b[0m⠀\u001b[0m⠀\u001b[0m⠀\u001b[0m⠀\u001b[0m⠀\u001b[0m⠀\u001b[0m⠀\u001b[0m⠀\u001b[0m⠀\u001b[0m⠀\u001b[0m⠀\u001b[0m⠀\u001b[0m⠀\u001b[0m⠀\u001b[0m⠀\u001b[0m⠀\u001b[0m⠀\u001b[0m⠀\u001b[0m⠀\u001b[0m⠀\u001b[0m⠀\u001b[0m⠀\u001b[0m⠀\u001b[0m⠀\u001b[0m⠀\u001b[0m⠀\u001b[0m⠀\u001b[0m⠀\u001b[0m⠀\u001b[0m⠀\u001b[0m⠀\u001b[31m⠈\u001b[39m\u001b[31m⠙\u001b[39m\u001b[31m⠻\u001b[39m\u001b[31m⢿\u001b[39m\u001b[31m⣷\u001b[39m\u001b[31m⡀\u001b[39m\u001b[0m⠀\u001b[0m⠀\u001b[0m⠀\u001b[0m⠀\u001b[0m⠀\u001b[90m│\u001b[39m    \n",
       "         \u001b[90m │\u001b[39m\u001b[0m⠀\u001b[0m⠀\u001b[0m⠀\u001b[0m⠀\u001b[0m⠀\u001b[0m⠀\u001b[0m⠀\u001b[0m⠀\u001b[0m⠀\u001b[0m⠀\u001b[0m⠀\u001b[0m⠀\u001b[0m⠀\u001b[0m⠀\u001b[0m⠀\u001b[0m⠀\u001b[0m⠀\u001b[0m⠀\u001b[0m⠀\u001b[0m⠀\u001b[0m⠀\u001b[0m⠀\u001b[0m⠀\u001b[0m⠀\u001b[0m⠀\u001b[0m⠀\u001b[0m⠀\u001b[0m⠀\u001b[0m⠀\u001b[0m⠀\u001b[0m⠀\u001b[0m⠀\u001b[0m⠀\u001b[0m⠀\u001b[0m⠀\u001b[31m⠈\u001b[39m\u001b[31m⠁\u001b[39m\u001b[0m⠀\u001b[0m⠀\u001b[0m⠀\u001b[0m⠀\u001b[0m⠀\u001b[90m│\u001b[39m    \n",
       "         \u001b[90m │\u001b[39m\u001b[0m⠀\u001b[0m⠀\u001b[0m⠀\u001b[0m⠀\u001b[0m⠀\u001b[0m⠀\u001b[0m⠀\u001b[0m⠀\u001b[0m⠀\u001b[0m⠀\u001b[0m⠀\u001b[0m⠀\u001b[0m⠀\u001b[0m⠀\u001b[0m⠀\u001b[0m⠀\u001b[0m⠀\u001b[0m⠀\u001b[0m⠀\u001b[0m⠀\u001b[0m⠀\u001b[0m⠀\u001b[0m⠀\u001b[0m⠀\u001b[0m⠀\u001b[0m⠀\u001b[0m⠀\u001b[0m⠀\u001b[0m⠀\u001b[0m⠀\u001b[0m⠀\u001b[0m⠀\u001b[0m⠀\u001b[0m⠀\u001b[0m⠀\u001b[0m⠀\u001b[0m⠀\u001b[0m⠀\u001b[0m⠀\u001b[0m⠀\u001b[0m⠀\u001b[0m⠀\u001b[90m│\u001b[39m    \n",
       "   \u001b[90m500000\u001b[39m\u001b[90m │\u001b[39m\u001b[0m⠀\u001b[0m⠀\u001b[0m⠀\u001b[0m⠀\u001b[0m⠀\u001b[0m⠀\u001b[0m⠀\u001b[0m⠀\u001b[0m⠀\u001b[0m⠀\u001b[0m⠀\u001b[0m⠀\u001b[0m⠀\u001b[0m⠀\u001b[0m⠀\u001b[0m⠀\u001b[0m⠀\u001b[0m⠀\u001b[0m⠀\u001b[0m⠀\u001b[0m⠀\u001b[0m⠀\u001b[0m⠀\u001b[0m⠀\u001b[0m⠀\u001b[0m⠀\u001b[0m⠀\u001b[0m⠀\u001b[0m⠀\u001b[0m⠀\u001b[0m⠀\u001b[0m⠀\u001b[0m⠀\u001b[0m⠀\u001b[0m⠀\u001b[0m⠀\u001b[0m⠀\u001b[0m⠀\u001b[0m⠀\u001b[0m⠀\u001b[0m⠀\u001b[0m⠀\u001b[90m│\u001b[39m    \n",
       "\u001b[90m          └──────────────────────────────────────────┘\u001b[39m    \n",
       "\u001b[90m          1\u001b[39m\u001b[90m                    \u001b[39m\u001b[90m                 500000\u001b[39m\n",
       "\u001b[0m                          nz = 998420"
      ]
     },
     "metadata": {},
     "output_type": "display_data"
    },
    {
     "name": "stdout",
     "output_type": "stream",
     "text": [
      "  0.347490 seconds (1.28 M allocations: 94.283 MiB, 6.20% gc time)\n"
     ]
    }
   ],
   "source": [
    "using SparseArrays, CuthillMcKee, UnicodePlots\n",
    "N = 500_000\n",
    "A = sprand(N, N, 1/N)\n",
    "A = A+A'\n",
    "@time p = symrcm(A)\n",
    "AP = rcmpermute(A)\n",
    "display(spy(A))\n",
    "display(spy(AP))"
   ]
  },
  {
   "cell_type": "code",
   "execution_count": null,
   "metadata": {},
   "outputs": [],
   "source": []
  }
 ],
 "metadata": {
  "anaconda-cloud": {},
  "kernelspec": {
   "display_name": "Julia 1.3.1",
   "language": "julia",
   "name": "julia-1.3"
  },
  "language_info": {
   "file_extension": ".jl",
   "mimetype": "application/julia",
   "name": "julia",
   "version": "1.3.1"
  }
 },
 "nbformat": 4,
 "nbformat_minor": 2
}
