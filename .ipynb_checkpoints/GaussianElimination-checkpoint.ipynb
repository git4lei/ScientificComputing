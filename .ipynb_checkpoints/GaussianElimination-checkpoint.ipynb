{
 "cells": [
  {
   "cell_type": "code",
   "execution_count": 1,
   "metadata": {},
   "outputs": [
    {
     "data": {
      "text/plain": [
       "3×3 Array{Float64,2}:\n",
       " 1.0   3.0   1.0\n",
       " 1.0   1.0  -1.0\n",
       " 3.0  11.0   6.0"
      ]
     },
     "execution_count": 1,
     "metadata": {},
     "output_type": "execute_result"
    }
   ],
   "source": [
    "A = [1.0 3.0 1.0\n",
    "     1.0 1.0 -1.0\n",
    "     3.0 11.0 6.0]"
   ]
  },
  {
   "cell_type": "code",
   "execution_count": 2,
   "metadata": {},
   "outputs": [
    {
     "data": {
      "text/plain": [
       "3-element Array{Float64,1}:\n",
       "  9.0\n",
       "  1.0\n",
       " 35.0"
      ]
     },
     "execution_count": 2,
     "metadata": {},
     "output_type": "execute_result"
    }
   ],
   "source": [
    "b = [9.0, 1.0, 35]"
   ]
  },
  {
   "cell_type": "code",
   "execution_count": 3,
   "metadata": {},
   "outputs": [
    {
     "data": {
      "text/plain": [
       "3-element Array{Float64,1}:\n",
       " -3.0\n",
       "  4.0\n",
       " -0.0"
      ]
     },
     "execution_count": 3,
     "metadata": {},
     "output_type": "execute_result"
    }
   ],
   "source": [
    "x = A \\ b # solves Ax = b by (essentially) Gaussian elimination"
   ]
  },
  {
   "cell_type": "code",
   "execution_count": 4,
   "metadata": {},
   "outputs": [],
   "source": [
    "using LinearAlgebra"
   ]
  },
  {
   "cell_type": "markdown",
   "metadata": {},
   "source": [
    "$$Ax = b \\longrightarrow LUx = b \\longrightarrow Ux = L^{-1}b$$"
   ]
  },
  {
   "cell_type": "code",
   "execution_count": 5,
   "metadata": {
    "scrolled": false
   },
   "outputs": [
    {
     "data": {
      "text/plain": [
       "LU{Float64,Array{Float64,2}}\n",
       "L factor:\n",
       "3×3 Array{Float64,2}:\n",
       " 1.0   0.0  0.0\n",
       " 1.0   1.0  0.0\n",
       " 3.0  -1.0  1.0\n",
       "U factor:\n",
       "3×4 Array{Float64,2}:\n",
       " 1.0   3.0   1.0   9.0\n",
       " 0.0  -2.0  -2.0  -8.0\n",
       " 0.0   0.0   1.0   0.0"
      ]
     },
     "execution_count": 5,
     "metadata": {},
     "output_type": "execute_result"
    }
   ],
   "source": [
    "L, U = lu([A b], Val{false}())"
   ]
  },
  {
   "cell_type": "code",
   "execution_count": 6,
   "metadata": {
    "scrolled": false
   },
   "outputs": [
    {
     "data": {
      "text/plain": [
       "3-element Array{Float64,1}:\n",
       "  9.0\n",
       " -8.0\n",
       "  0.0"
      ]
     },
     "execution_count": 6,
     "metadata": {},
     "output_type": "execute_result"
    }
   ],
   "source": [
    "inv(L)*b"
   ]
  },
  {
   "cell_type": "markdown",
   "metadata": {},
   "source": [
    "$$ \\begin{pmatrix}\n",
    "    1 & 3 & 1 \\\\\n",
    "    0 & -2 & -2 \\\\\n",
    "    0 & 0 & 1 \n",
    "    \\end{pmatrix}\n",
    "    \\begin{pmatrix}\n",
    "    x_1 \\\\ x_2 \\\\ x_3 \n",
    "    \\end{pmatrix} = \n",
    "    \\begin{pmatrix}\n",
    "    9 \\\\ -8 \\\\ 0\n",
    "    \\end{pmatrix}\\longrightarrow \n",
    "    \\begin{pmatrix}\n",
    "    x_1 \\\\ x_2 \\\\ x_3 \n",
    "    \\end{pmatrix} =\n",
    "    \\begin{pmatrix}\n",
    "    -3 \\\\ 4 \\\\ 0\n",
    "    \\end{pmatrix}\n",
    "$$"
   ]
  },
  {
   "cell_type": "code",
   "execution_count": 6,
   "metadata": {},
   "outputs": [
    {
     "data": {
      "text/plain": [
       "naive_gauss (generic function with 2 methods)"
      ]
     },
     "execution_count": 6,
     "metadata": {},
     "output_type": "execute_result"
    }
   ],
   "source": [
    "function naive_gauss(A::Matrix{Float64}, step=typemax(Int64)::Int64)\n",
    "    m = size(A, 1)\n",
    "    factor = A[1,1]/A[1,1]\n",
    "    step ≤ 0 && return(A, 1, 1, factor)\n",
    "    U = copy!(similar(A, typeof(factor)), A)\n",
    "    for j = 1:m\n",
    "        for i = j+1:m\n",
    "            factor = -U[i,j]/U[j,j]\n",
    "            U[i,:] = U[i,:] + U[j,:] * factor\n",
    "            step -= 1\n",
    "            step ≤ 0 && return(U, i, j, factor)\n",
    "        end\n",
    "    end\n",
    "    return U, m, m, factor\n",
    "end"
   ]
  },
  {
   "cell_type": "code",
   "execution_count": 7,
   "metadata": {},
   "outputs": [
    {
     "data": {
      "text/plain": [
       "3×3 Array{Float64,2}:\n",
       " 1.0   3.0   1.0\n",
       " 0.0  -2.0  -2.0\n",
       " 0.0   0.0   1.0"
      ]
     },
     "execution_count": 7,
     "metadata": {},
     "output_type": "execute_result"
    }
   ],
   "source": [
    "U, = naive_gauss(A)\n",
    "U"
   ]
  },
  {
   "cell_type": "code",
   "execution_count": 8,
   "metadata": {},
   "outputs": [],
   "source": [
    "struct TwoMatrices\n",
    "    left::AbstractVecOrMat\n",
    "    right::AbstractVecOrMat\n",
    "    title::AbstractString\n",
    "    function TwoMatrices(left, right, title=\"\")\n",
    "        size(left,1) == size(right,1) || throw(DimensionMismatch(\"TwoMatrices\"))\n",
    "        return new(left, right, title)\n",
    "    end\n",
    "end"
   ]
  },
  {
   "cell_type": "code",
   "execution_count": 9,
   "metadata": {},
   "outputs": [
    {
     "data": {
      "text/plain": [
       "TwoMatrices([1.0 3.0 1.0; 1.0 1.0 -1.0; 3.0 11.0 6.0], [1.0 3.0 1.0; 0.0 -2.0 -2.0; 0.0 0.0 1.0], \"Before Base.show\")"
      ]
     },
     "execution_count": 9,
     "metadata": {},
     "output_type": "execute_result"
    }
   ],
   "source": [
    "tw = TwoMatrices(A, U, \"Before Base.show\")"
   ]
  },
  {
   "cell_type": "code",
   "execution_count": 10,
   "metadata": {},
   "outputs": [],
   "source": [
    "function Base.show(io::IO, x::TwoMatrices)\n",
    "    isempty(x.title) || println(io, x.title)\n",
    "    m = size(x.left, 1)\n",
    "    s = [Text(\" \"^10) for i in 1:m]\n",
    "    s[(m+1)÷2] = Text(\"   --->   \")\n",
    "    Base.print_array(io, [x.left s x.right])#, false; header=false)\n",
    "    println()\n",
    "end"
   ]
  },
  {
   "cell_type": "code",
   "execution_count": 11,
   "metadata": {},
   "outputs": [
    {
     "data": {
      "text/plain": [
       "Test Base.show\n",
       " 1.0   3.0   1.0              1.0   3.0   1.0\n",
       " 1.0   1.0  -1.0     --->     0.0  -2.0  -2.0\n",
       " 3.0  11.0   6.0              0.0   0.0   1.0"
      ]
     },
     "execution_count": 11,
     "metadata": {},
     "output_type": "execute_result"
    },
    {
     "name": "stdout",
     "output_type": "stream",
     "text": [
      "\n"
     ]
    }
   ],
   "source": [
    "tw = TwoMatrices(A, U, \"Test Base.show\")"
   ]
  },
  {
   "cell_type": "code",
   "execution_count": 12,
   "metadata": {},
   "outputs": [
    {
     "data": {
      "text/plain": [
       "shorten (generic function with 2 methods)"
      ]
     },
     "execution_count": 12,
     "metadata": {},
     "output_type": "execute_result"
    }
   ],
   "source": [
    "shorten(x::AbstractFloat) = round(x; digits=3)\n",
    "shorten(x) = x"
   ]
  },
  {
   "cell_type": "code",
   "execution_count": 13,
   "metadata": {},
   "outputs": [
    {
     "data": {
      "text/plain": [
       "visualize_gauss (generic function with 1 method)"
      ]
     },
     "execution_count": 13,
     "metadata": {},
     "output_type": "execute_result"
    }
   ],
   "source": [
    "function visualize_gauss(A::Matrix{Float64})\n",
    "    m = size(A,1)\n",
    "    s = [Text(\" \"^10) for i in 1:m]\n",
    "    s[(m+1)÷2] = Text(\"   --->   \")\n",
    "    for step in 1:(m*(m-1))÷2\n",
    "        Uprev, = naive_gauss(A, step-1)\n",
    "        U, row, col, factor = naive_gauss(A, step)\n",
    "        pivot = U[col, col]\n",
    "        tm = TwoMatrices(shorten.(Uprev), shorten.(U), \"Gaussian elimination for colum $col with pivot $pivot\")\n",
    "        Base.show(stdout,tm)\n",
    "#         return Uprev,s,U\n",
    "    end\n",
    "    \n",
    "end"
   ]
  },
  {
   "cell_type": "code",
   "execution_count": 14,
   "metadata": {
    "scrolled": true
   },
   "outputs": [
    {
     "name": "stdout",
     "output_type": "stream",
     "text": [
      "Gaussian elimination for colum 1 with pivot 1.0\n",
      " 1.0   3.0   1.0   9.0              1.0   3.0   1.0   9.0\n",
      " 1.0   1.0  -1.0   1.0     --->     0.0  -2.0  -2.0  -8.0\n",
      " 3.0  11.0   6.0  35.0              3.0  11.0   6.0  35.0\n",
      "Gaussian elimination for colum 1 with pivot 1.0\n",
      " 1.0   3.0   1.0   9.0              1.0   3.0   1.0   9.0\n",
      " 0.0  -2.0  -2.0  -8.0     --->     0.0  -2.0  -2.0  -8.0\n",
      " 3.0  11.0   6.0  35.0              0.0   2.0   3.0   8.0\n",
      "Gaussian elimination for colum 2 with pivot -2.0\n",
      " 1.0   3.0   1.0   9.0              1.0   3.0   1.0   9.0\n",
      " 0.0  -2.0  -2.0  -8.0     --->     0.0  -2.0  -2.0  -8.0\n",
      " 0.0   2.0   3.0   8.0              0.0   0.0   1.0   0.0\n"
     ]
    }
   ],
   "source": [
    "visualize_gauss([A b])"
   ]
  },
  {
   "cell_type": "code",
   "execution_count": 15,
   "metadata": {},
   "outputs": [
    {
     "name": "stdout",
     "output_type": "stream",
     "text": [
      "Gaussian elimination for colum 1 with pivot 5.0\n",
      "  5.0  -8.0   9.0  -2.0   7.0               5.0  -8.0   9.0  -2.0   7.0\n",
      " -5.0   0.0  -8.0   1.0  -1.0               0.0  -8.0   1.0  -1.0   6.0\n",
      "  5.0   8.0   2.0   7.0  -8.0     --->      5.0   8.0   2.0   7.0  -8.0\n",
      "  8.0   0.0   2.0  -2.0   7.0               8.0   0.0   2.0  -2.0   7.0\n",
      " -9.0  -2.0  -5.0   9.0   0.0              -9.0  -2.0  -5.0   9.0   0.0\n",
      "Gaussian elimination for colum 1 with pivot 5.0\n",
      "  5.0  -8.0   9.0  -2.0   7.0               5.0  -8.0   9.0  -2.0    7.0\n",
      "  0.0  -8.0   1.0  -1.0   6.0               0.0  -8.0   1.0  -1.0    6.0\n",
      "  5.0   8.0   2.0   7.0  -8.0     --->      0.0  16.0  -7.0   9.0  -15.0\n",
      "  8.0   0.0   2.0  -2.0   7.0               8.0   0.0   2.0  -2.0    7.0\n",
      " -9.0  -2.0  -5.0   9.0   0.0              -9.0  -2.0  -5.0   9.0    0.0\n",
      "Gaussian elimination for colum 1 with pivot 5.0\n",
      "  5.0  -8.0   9.0  -2.0    7.0               5.0  -8.0    9.0  -2.0    7.0\n",
      "  0.0  -8.0   1.0  -1.0    6.0               0.0  -8.0    1.0  -1.0    6.0\n",
      "  0.0  16.0  -7.0   9.0  -15.0     --->      0.0  16.0   -7.0   9.0  -15.0\n",
      "  8.0   0.0   2.0  -2.0    7.0               0.0  12.8  -12.4   1.2   -4.2\n",
      " -9.0  -2.0  -5.0   9.0    0.0              -9.0  -2.0   -5.0   9.0    0.0\n",
      "Gaussian elimination for colum 1 with pivot 5.0\n",
      "  5.0  -8.0    9.0  -2.0    7.0              5.0   -8.0    9.0  -2.0    7.0\n",
      "  0.0  -8.0    1.0  -1.0    6.0              0.0   -8.0    1.0  -1.0    6.0\n",
      "  0.0  16.0   -7.0   9.0  -15.0     --->     0.0   16.0   -7.0   9.0  -15.0\n",
      "  0.0  12.8  -12.4   1.2   -4.2              0.0   12.8  -12.4   1.2   -4.2\n",
      " -9.0  -2.0   -5.0   9.0    0.0              0.0  -16.4   11.2   5.4   12.6\n",
      "Gaussian elimination for colum 2 with pivot -8.0\n",
      " 5.0   -8.0    9.0  -2.0    7.0              5.0   -8.0    9.0  -2.0   7.0\n",
      " 0.0   -8.0    1.0  -1.0    6.0              0.0   -8.0    1.0  -1.0   6.0\n",
      " 0.0   16.0   -7.0   9.0  -15.0     --->     0.0    0.0   -5.0   7.0  -3.0\n",
      " 0.0   12.8  -12.4   1.2   -4.2              0.0   12.8  -12.4   1.2  -4.2\n",
      " 0.0  -16.4   11.2   5.4   12.6              0.0  -16.4   11.2   5.4  12.6\n",
      "Gaussian elimination for colum 2 with pivot -8.0\n",
      " 5.0   -8.0    9.0  -2.0   7.0              5.0   -8.0    9.0  -2.0   7.0\n",
      " 0.0   -8.0    1.0  -1.0   6.0              0.0   -8.0    1.0  -1.0   6.0\n",
      " 0.0    0.0   -5.0   7.0  -3.0     --->     0.0    0.0   -5.0   7.0  -3.0\n",
      " 0.0   12.8  -12.4   1.2  -4.2              0.0    0.0  -10.8  -0.4   5.4\n",
      " 0.0  -16.4   11.2   5.4  12.6              0.0  -16.4   11.2   5.4  12.6\n",
      "Gaussian elimination for colum 2 with pivot -8.0\n",
      " 5.0   -8.0    9.0  -2.0   7.0              5.0  -8.0    9.0   -2.0    7.0\n",
      " 0.0   -8.0    1.0  -1.0   6.0              0.0  -8.0    1.0   -1.0    6.0\n",
      " 0.0    0.0   -5.0   7.0  -3.0     --->     0.0   0.0   -5.0    7.0   -3.0\n",
      " 0.0    0.0  -10.8  -0.4   5.4              0.0   0.0  -10.8   -0.4    5.4\n",
      " 0.0  -16.4   11.2   5.4  12.6              0.0   0.0    9.15   7.45   0.3\n",
      "Gaussian elimination for colum 3 with pivot -5.0\n",
      " 5.0  -8.0    9.0   -2.0    7.0              5.0  -8.0   9.0    -2.0    7.0 \n",
      " 0.0  -8.0    1.0   -1.0    6.0              0.0  -8.0   1.0    -1.0    6.0 \n",
      " 0.0   0.0   -5.0    7.0   -3.0     --->     0.0   0.0  -5.0     7.0   -3.0 \n",
      " 0.0   0.0  -10.8   -0.4    5.4              0.0   0.0   0.0   -15.52  11.88\n",
      " 0.0   0.0    9.15   7.45   0.3              0.0   0.0   9.15    7.45   0.3 \n",
      "Gaussian elimination for colum 3 with pivot -5.0\n",
      " 5.0  -8.0   9.0    -2.0    7.0               5.0  -8.0   9.0   -2.0    7.0 \n",
      " 0.0  -8.0   1.0    -1.0    6.0               0.0  -8.0   1.0   -1.0    6.0 \n",
      " 0.0   0.0  -5.0     7.0   -3.0      --->     0.0   0.0  -5.0    7.0   -3.0 \n",
      " 0.0   0.0   0.0   -15.52  11.88              0.0   0.0   0.0  -15.52  11.88\n",
      " 0.0   0.0   9.15    7.45   0.3               0.0   0.0   0.0   20.26  -5.19\n",
      "Gaussian elimination for colum 4 with pivot -15.520000000000001\n",
      " 5.0  -8.0   9.0   -2.0    7.0               5.0  -8.0   9.0   -2.0    7.0  \n",
      " 0.0  -8.0   1.0   -1.0    6.0               0.0  -8.0   1.0   -1.0    6.0  \n",
      " 0.0   0.0  -5.0    7.0   -3.0      --->     0.0   0.0  -5.0    7.0   -3.0  \n",
      " 0.0   0.0   0.0  -15.52  11.88              0.0   0.0   0.0  -15.52  11.88 \n",
      " 0.0   0.0   0.0   20.26  -5.19              0.0   0.0   0.0    0.0   10.318\n"
     ]
    }
   ],
   "source": [
    "visualize_gauss(rand(-9.0:9.0,5,5))"
   ]
  },
  {
   "cell_type": "code",
   "execution_count": null,
   "metadata": {},
   "outputs": [],
   "source": []
  }
 ],
 "metadata": {
  "anaconda-cloud": {},
  "kernelspec": {
   "display_name": "Julia 1.3.1",
   "language": "julia",
   "name": "julia-1.3"
  },
  "language_info": {
   "file_extension": ".jl",
   "mimetype": "application/julia",
   "name": "julia",
   "version": "1.3.1"
  }
 },
 "nbformat": 4,
 "nbformat_minor": 2
}
