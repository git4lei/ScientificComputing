{
 "cells": [
  {
   "cell_type": "markdown",
   "metadata": {},
   "source": [
    "# Newton-Raphson method\n",
    "https://mmas.github.io/newton-julia   \n",
    "Newton-Raphson method (or Newton's method) is a method to find the **root** of a **real** function. Knowing the **function and its derivative**, it will calculate successive approximations to the root from an initial guess, calculating the x-intercept of the tangent line of this guess and using x-intercept value as the new guess for the next iteration. The process will continue till the computed value is accurate enough, according to a tolerance parameter.   \n",
    "\n",
    "The x-intercept of the tangent line of $f(x_n)$ is \n",
    "$$0=f^\\prime(x_n)(x_{n+1}-x_n)+f(x_n)$$\n",
    "Solving for $x_{n+1}$ gives the new approximation\n",
    "$$ x_{n+1} = x_n - \\frac{f(x_n)}{f^\\prime(x_n)}$$"
   ]
  },
  {
   "cell_type": "code",
   "execution_count": 9,
   "metadata": {},
   "outputs": [
    {
     "data": {
      "text/plain": [
       "newton (generic function with 2 methods)"
      ]
     },
     "execution_count": 9,
     "metadata": {},
     "output_type": "execute_result"
    }
   ],
   "source": [
    "function newton(f::Function, x0::Number, fprime::Function, args::Tuple=();\n",
    "                tol::AbstractFloat=1e-8, maxiter::Integer=50, eps::AbstractFloat=1e-10)\n",
    "    for _ in 1:maxiter\n",
    "        yprime = fprime(x0, args...)\n",
    "        if abs(yprime) < eps\n",
    "            println(\"Warning:First derivative is zero\")\n",
    "            return x0\n",
    "        end\n",
    "        y = f(x0, args...)\n",
    "        x1 = x0 - y/yprime\n",
    "        if abs(x1-x0) < tol\n",
    "            return x1\n",
    "        end\n",
    "        x0 = x1\n",
    "    end\n",
    "    error(\"Max iteration exceeded\")\n",
    "end"
   ]
  },
  {
   "cell_type": "code",
   "execution_count": 14,
   "metadata": {},
   "outputs": [
    {
     "data": {
      "text/plain": [
       "1.0"
      ]
     },
     "execution_count": 14,
     "metadata": {},
     "output_type": "execute_result"
    }
   ],
   "source": [
    "f(x) = x^2 - 1\n",
    "fprime(x) = 2x\n",
    "x0 = 1\n",
    "newton(f,x0,fprime)"
   ]
  },
  {
   "cell_type": "code",
   "execution_count": 11,
   "metadata": {},
   "outputs": [
    {
     "name": "stdout",
     "output_type": "stream",
     "text": [
      "Warning:First derivative is zero\n"
     ]
    }
   ],
   "source": [
    "begin\n",
    "    f(x) = x^2 - 2\n",
    "    fprime(x) = 2x\n",
    "    x0 = 0\n",
    "    newton(f,x0,fprime)\n",
    "end\n",
    "nothing"
   ]
  },
  {
   "cell_type": "code",
   "execution_count": 16,
   "metadata": {},
   "outputs": [
    {
     "name": "stdout",
     "output_type": "stream",
     "text": [
      "x = 2\n"
     ]
    },
    {
     "data": {
      "text/plain": [
       "2"
      ]
     },
     "execution_count": 16,
     "metadata": {},
     "output_type": "execute_result"
    }
   ],
   "source": [
    "begin\n",
    "    x = 1\n",
    "    x += 1\n",
    "end\n",
    "@show x"
   ]
  },
  {
   "cell_type": "code",
   "execution_count": 12,
   "metadata": {},
   "outputs": [
    {
     "data": {
      "text/plain": [
       "-1.4142135623730951"
      ]
     },
     "execution_count": 12,
     "metadata": {},
     "output_type": "execute_result"
    }
   ],
   "source": [
    "(f(x)=x^2-2; fprime(x)=2x; x0=-1; newton(f,x0,fprime))"
   ]
  },
  {
   "cell_type": "markdown",
   "metadata": {},
   "source": [
    "# Molecular dynamics\n",
    "We choose the **Verlet** algorithm for the MD simulation to update at the j-th step:\n",
    "$$ u^{j+1} = u^{j} + \\Delta t_m \\dot{u}^j + \\frac12 \\Delta t^2_m\\ddot{u}^j$$\n",
    "$$ \\dot{u}^{j+1/2}=\\dot{u}^j+\\frac12\\Delta t_m\\ddot{q}^j$$\n",
    "$$ \\ddot{u}^{j+1}=-\\frac{\\partial U}{\\partial u} + f_\\textrm{ext}^j$$\n",
    "$$ \\dot{u}^{j+1} = \\dot{u}^{j+1/2}+\\frac12\\Delta t_m \\ddot{u}^{j+1}$$   \n",
    "\n",
    "Consider a atomistic chain with the **Lennard-Jones (LJ)** potential function as the nearest neighboring atom interaction:\n",
    "$$ U(r_{ij}) = 4\\left[ \\left(\\frac{1}{r_{ij}}\\right)^{12} - \\left( \\frac{1}{r_{ij}}\\right) \\right]$$\n",
    "with initial displacement\n",
    "$$ u(x,t=0) = \\left\\{\n",
    "\\begin{array}[cc]\n",
    "    sA e^{(x/\\sigma)^2}[1+b\\cos(\\frac{2\\pi x}{H})] & |x|\\leq L_c\\\\\n",
    "    0 & |x|>L_c\n",
    "\\end{array}\n",
    "\\right.\n",
    "$$"
   ]
  },
  {
   "cell_type": "code",
   "execution_count": 17,
   "metadata": {},
   "outputs": [],
   "source": [
    "using JuLIP\n",
    "using PyPlot"
   ]
  },
  {
   "cell_type": "code",
   "execution_count": 19,
   "metadata": {},
   "outputs": [],
   "source": [
    "L = 300\n",
    "r0 = 1\n",
    "x = collect(range(-L, stop=L)) .* r0\n",
    "X = zeros(Float64, 3, length(x))\n",
    "X[1,:] = x\n",
    "X0 = deepcopy(X)\n",
    "at = Atoms(:X, X)\n",
    "\n",
    "lj = lennardjones(; r0=r0)\n",
    "set_calculator!(at, lj)\n",
    "set_pbc!(at, [true, false, false])\n",
    "mask = fill(false, 3, length(at))\n",
    "mask[1, :] .= true\n",
    "set_mask!(at, mask)\n",
    "\n",
    "T = 15\n",
    "Δt = 0.002\n",
    "n = convert(Int64, T/Δt)\n",
    "N = 2*L+1\n",
    "σ = 20\n",
    "H = σ/4\n",
    "A = 0.01\n",
    "b = 0.2\n",
    "Lc = 80\n",
    "\n",
    "# initial displacement\n",
    "u = zeros(Float64, N, n)\n",
    "IcIdx = collect(-Lc:Lc)\n",
    "IcUIdx = IcIdx .+ div(N+1,2)\n",
    "u[IcUIdx, 1] = A*( exp.( -(IcIdx./σ).^2 )).*( 1 .+b.*cos.(2π.*IcIdx./H) )\n",
    "nothing"
   ]
  },
  {
   "cell_type": "code",
   "execution_count": 35,
   "metadata": {},
   "outputs": [
    {
     "data": {
      "image/png": "[encoded data removed]",
      "text/plain": [
       "Figure(PyObject <Figure size 640x480 with 1 Axes>)"
      ]
     },
     "metadata": {},
     "output_type": "display_data"
    }
   ],
   "source": [
    "scatter(collect(range(-L, stop=L)), u[:,1])\n",
    "xlabel(\"x\")\n",
    "ylabel(\"displacement\")\n",
    "title(\"T = 0s\")\n",
    "axis([-300, 300, -0.0001, 0.013])\n",
    "nothing"
   ]
  },
  {
   "cell_type": "code",
   "execution_count": 25,
   "metadata": {},
   "outputs": [],
   "source": [
    "X[1,:] = X0[1,:] + u[:,1]\n",
    "set_positions!(at, X)\n",
    "v = zeros(Float64, N, n)\n",
    "a = zeros(Float64, N, n)\n",
    "\n",
    "frc = forces(at) |> mat\n",
    "a[:,1] = frc[1,:]\n",
    "\n",
    "for t = 1:(n-1)\n",
    "    u[:,t+1] = u[:,t] .+ v[:,t] .* Δt .+ a[:,t] .* (Δt)^2/2\n",
    "    X[1,:] = X0[1,:] + u[:,t+1]\n",
    "    # X[1,:] = u[:,t+1]\n",
    "    set_positions!(at, X)\n",
    "    # set_dofs!(at, X[:,1])\n",
    "    # w[:,t] = v[:,t] .+ a[:,t] .* (Δt)^2/2\n",
    "\n",
    "    frc =  forces(at) |> mat\n",
    "    a[:,t+1] = frc[1,:]\n",
    "\n",
    "    v[:,t+1] = v[:,t] .+ a[:,t] .* (Δt)/2 .+ a[:,t+1] .* (Δt)/2\n",
    "end"
   ]
  },
  {
   "cell_type": "code",
   "execution_count": 92,
   "metadata": {
    "scrolled": true
   },
   "outputs": [
    {
     "data": {
      "image/png": "[encoded data removed]",
      "text/plain": [
       "Figure(PyObject <Figure size 640x480 with 1 Axes>)"
      ]
     },
     "metadata": {},
     "output_type": "display_data"
    },
    {
     "data": {
      "text/plain": [
       "PyObject Text(0.5, 1.0, 'T = 10s')"
      ]
     },
     "execution_count": 92,
     "metadata": {},
     "output_type": "execute_result"
    }
   ],
   "source": [
    "PyPlot.figure\n",
    "plot(collect(range(-L, stop=L)), u[:,5000], \"bo\")\n",
    "xlabel(\"x\")\n",
    "ylabel(\"displacement\")\n",
    "title(\"T = 10s\")"
   ]
  },
  {
   "cell_type": "code",
   "execution_count": 38,
   "metadata": {
    "scrolled": true
   },
   "outputs": [
    {
     "name": "stdout",
     "output_type": "stream",
     "text": [
      "search: \u001b[0m\u001b[1mr\u001b[22m\u001b[0m\u001b[1ma\u001b[22m\u001b[0m\u001b[1mn\u001b[22m\u001b[0m\u001b[1mg\u001b[22m\u001b[0m\u001b[1me\u001b[22m Lin\u001b[0m\u001b[1mR\u001b[22m\u001b[0m\u001b[1ma\u001b[22m\u001b[0m\u001b[1mn\u001b[22m\u001b[0m\u001b[1mg\u001b[22m\u001b[0m\u001b[1me\u001b[22m Unit\u001b[0m\u001b[1mR\u001b[22m\u001b[0m\u001b[1ma\u001b[22m\u001b[0m\u001b[1mn\u001b[22m\u001b[0m\u001b[1mg\u001b[22m\u001b[0m\u001b[1me\u001b[22m Step\u001b[0m\u001b[1mR\u001b[22m\u001b[0m\u001b[1ma\u001b[22m\u001b[0m\u001b[1mn\u001b[22m\u001b[0m\u001b[1mg\u001b[22m\u001b[0m\u001b[1me\u001b[22m Step\u001b[0m\u001b[1mR\u001b[22m\u001b[0m\u001b[1ma\u001b[22m\u001b[0m\u001b[1mn\u001b[22m\u001b[0m\u001b[1mg\u001b[22m\u001b[0m\u001b[1me\u001b[22mLen t\u001b[0m\u001b[1mr\u001b[22m\u001b[0m\u001b[1ma\u001b[22mili\u001b[0m\u001b[1mn\u001b[22m\u001b[0m\u001b[1mg\u001b[22m_z\u001b[0m\u001b[1me\u001b[22mros\n",
      "\n"
     ]
    },
    {
     "data": {
      "text/latex": [
       "\\begin{verbatim}\n",
       "range(start[, stop]; length, stop, step=1)\n",
       "\\end{verbatim}\n",
       "Given a starting value, construct a range either by length or from \\texttt{start} to \\texttt{stop}, optionally with a given step (defaults to 1, a \\href{@ref}{\\texttt{UnitRange}}). One of \\texttt{length} or \\texttt{stop} is required.  If \\texttt{length}, \\texttt{stop}, and \\texttt{step} are all specified, they must agree.\n",
       "\n",
       "If \\texttt{length} and \\texttt{stop} are provided and \\texttt{step} is not, the step size will be computed automatically such that there are \\texttt{length} linearly spaced elements in the range (a \\href{@ref}{\\texttt{LinRange}}).\n",
       "\n",
       "If \\texttt{step} and \\texttt{stop} are provided and \\texttt{length} is not, the overall range length will be computed automatically such that the elements are \\texttt{step} spaced (a \\href{@ref}{\\texttt{StepRange}}).\n",
       "\n",
       "\\texttt{stop} may be specified as either a positional or keyword argument.\n",
       "\n",
       "\\begin{quote}\n",
       "\\textbf{compat}\n",
       "\n",
       "Julia 1.1\n",
       "\n",
       "\\texttt{stop} as a positional argument requires at least Julia 1.1.\n",
       "\n",
       "\\end{quote}\n",
       "\\section{Examples}\n",
       "\\begin{verbatim}\n",
       "julia> range(1, length=100)\n",
       "1:100\n",
       "\n",
       "julia> range(1, stop=100)\n",
       "1:100\n",
       "\n",
       "julia> range(1, step=5, length=100)\n",
       "1:5:496\n",
       "\n",
       "julia> range(1, step=5, stop=100)\n",
       "1:5:96\n",
       "\n",
       "julia> range(1, 10, length=101)\n",
       "1.0:0.09:10.0\n",
       "\n",
       "julia> range(1, 100, step=5)\n",
       "1:5:96\n",
       "\\end{verbatim}\n",
       "\\rule{\\textwidth}{1pt}\n",
       "\\begin{verbatim}\n",
       "range(start::T; stop::T, length=100) where T<:Colorant\n",
       "range(start::T, stop::T; length=100) where T<:Colorant\n",
       "\\end{verbatim}\n",
       "Generates N (=\\texttt{length}) >2 colors in a linearly interpolated ramp from \\texttt{start} to\\texttt{stop}, inclusive, returning an \\texttt{Array} of colors.\n",
       "\n",
       "\\begin{quote}\n",
       "\\textbf{compat}\n",
       "\n",
       "Julia 1.1\n",
       "\n",
       "\\texttt{stop} as a positional argument requires at least Julia 1.1.\n",
       "\n",
       "\\end{quote}\n"
      ],
      "text/markdown": [
       "```\n",
       "range(start[, stop]; length, stop, step=1)\n",
       "```\n",
       "\n",
       "Given a starting value, construct a range either by length or from `start` to `stop`, optionally with a given step (defaults to 1, a [`UnitRange`](@ref)). One of `length` or `stop` is required.  If `length`, `stop`, and `step` are all specified, they must agree.\n",
       "\n",
       "If `length` and `stop` are provided and `step` is not, the step size will be computed automatically such that there are `length` linearly spaced elements in the range (a [`LinRange`](@ref)).\n",
       "\n",
       "If `step` and `stop` are provided and `length` is not, the overall range length will be computed automatically such that the elements are `step` spaced (a [`StepRange`](@ref)).\n",
       "\n",
       "`stop` may be specified as either a positional or keyword argument.\n",
       "\n",
       "!!! compat \"Julia 1.1\"\n",
       "    `stop` as a positional argument requires at least Julia 1.1.\n",
       "\n",
       "\n",
       "# Examples\n",
       "\n",
       "```jldoctest\n",
       "julia> range(1, length=100)\n",
       "1:100\n",
       "\n",
       "julia> range(1, stop=100)\n",
       "1:100\n",
       "\n",
       "julia> range(1, step=5, length=100)\n",
       "1:5:496\n",
       "\n",
       "julia> range(1, step=5, stop=100)\n",
       "1:5:96\n",
       "\n",
       "julia> range(1, 10, length=101)\n",
       "1.0:0.09:10.0\n",
       "\n",
       "julia> range(1, 100, step=5)\n",
       "1:5:96\n",
       "```\n",
       "\n",
       "---\n",
       "\n",
       "```\n",
       "range(start::T; stop::T, length=100) where T<:Colorant\n",
       "range(start::T, stop::T; length=100) where T<:Colorant\n",
       "```\n",
       "\n",
       "Generates N (=`length`) >2 colors in a linearly interpolated ramp from `start` to`stop`, inclusive, returning an `Array` of colors.\n",
       "\n",
       "!!! compat \"Julia 1.1\"\n",
       "    `stop` as a positional argument requires at least Julia 1.1.\n",
       "\n"
      ],
      "text/plain": [
       "\u001b[36m  range(start[, stop]; length, stop, step=1)\u001b[39m\n",
       "\n",
       "  Given a starting value, construct a range either by length or from \u001b[36mstart\u001b[39m to\n",
       "  \u001b[36mstop\u001b[39m, optionally with a given step (defaults to 1, a \u001b[36mUnitRange\u001b[39m). One of\n",
       "  \u001b[36mlength\u001b[39m or \u001b[36mstop\u001b[39m is required. If \u001b[36mlength\u001b[39m, \u001b[36mstop\u001b[39m, and \u001b[36mstep\u001b[39m are all specified,\n",
       "  they must agree.\n",
       "\n",
       "  If \u001b[36mlength\u001b[39m and \u001b[36mstop\u001b[39m are provided and \u001b[36mstep\u001b[39m is not, the step size will be\n",
       "  computed automatically such that there are \u001b[36mlength\u001b[39m linearly spaced elements\n",
       "  in the range (a \u001b[36mLinRange\u001b[39m).\n",
       "\n",
       "  If \u001b[36mstep\u001b[39m and \u001b[36mstop\u001b[39m are provided and \u001b[36mlength\u001b[39m is not, the overall range length\n",
       "  will be computed automatically such that the elements are \u001b[36mstep\u001b[39m spaced (a\n",
       "  \u001b[36mStepRange\u001b[39m).\n",
       "\n",
       "  \u001b[36mstop\u001b[39m may be specified as either a positional or keyword argument.\n",
       "\n",
       "\u001b[39m\u001b[1m  │ \u001b[22m\u001b[39m\u001b[1mJulia 1.1\u001b[22m\n",
       "\u001b[39m\u001b[1m  │\u001b[22m\n",
       "\u001b[39m\u001b[1m  │\u001b[22m  \u001b[36mstop\u001b[39m as a positional argument requires at least Julia 1.1.\n",
       "\n",
       "\u001b[1m  Examples\u001b[22m\n",
       "\u001b[1m  ≡≡≡≡≡≡≡≡≡≡\u001b[22m\n",
       "\n",
       "\u001b[36m  julia> range(1, length=100)\u001b[39m\n",
       "\u001b[36m  1:100\u001b[39m\n",
       "\u001b[36m  \u001b[39m\n",
       "\u001b[36m  julia> range(1, stop=100)\u001b[39m\n",
       "\u001b[36m  1:100\u001b[39m\n",
       "\u001b[36m  \u001b[39m\n",
       "\u001b[36m  julia> range(1, step=5, length=100)\u001b[39m\n",
       "\u001b[36m  1:5:496\u001b[39m\n",
       "\u001b[36m  \u001b[39m\n",
       "\u001b[36m  julia> range(1, step=5, stop=100)\u001b[39m\n",
       "\u001b[36m  1:5:96\u001b[39m\n",
       "\u001b[36m  \u001b[39m\n",
       "\u001b[36m  julia> range(1, 10, length=101)\u001b[39m\n",
       "\u001b[36m  1.0:0.09:10.0\u001b[39m\n",
       "\u001b[36m  \u001b[39m\n",
       "\u001b[36m  julia> range(1, 100, step=5)\u001b[39m\n",
       "\u001b[36m  1:5:96\u001b[39m\n",
       "\n",
       "  ────────────────────────────────────────────────────────────────────────────\n",
       "\n",
       "\u001b[36m  range(start::T; stop::T, length=100) where T<:Colorant\u001b[39m\n",
       "\u001b[36m  range(start::T, stop::T; length=100) where T<:Colorant\u001b[39m\n",
       "\n",
       "  Generates N (=\u001b[36mlength\u001b[39m) >2 colors in a linearly interpolated ramp from \u001b[36mstart\u001b[39m\n",
       "  to\u001b[36mstop\u001b[39m, inclusive, returning an \u001b[36mArray\u001b[39m of colors.\n",
       "\n",
       "\u001b[39m\u001b[1m  │ \u001b[22m\u001b[39m\u001b[1mJulia 1.1\u001b[22m\n",
       "\u001b[39m\u001b[1m  │\u001b[22m\n",
       "\u001b[39m\u001b[1m  │\u001b[22m  \u001b[36mstop\u001b[39m as a positional argument requires at least Julia 1.1."
      ]
     },
     "execution_count": 38,
     "metadata": {},
     "output_type": "execute_result"
    }
   ],
   "source": [
    "?range"
   ]
  },
  {
   "cell_type": "code",
   "execution_count": 43,
   "metadata": {},
   "outputs": [],
   "source": [
    "using Printf"
   ]
  },
  {
   "cell_type": "code",
   "execution_count": 46,
   "metadata": {},
   "outputs": [
    {
     "data": {
      "text/plain": [
       "\"T = 0.2s\""
      ]
     },
     "execution_count": 46,
     "metadata": {},
     "output_type": "execute_result"
    }
   ],
   "source": [
    "@sprintf(\"T = %3.1fs\", Δt*100)"
   ]
  },
  {
   "cell_type": "code",
   "execution_count": 90,
   "metadata": {},
   "outputs": [],
   "source": [
    "for i = range(100, stop=5000,step=100)\n",
    "    plot(collect(range(-L, stop=L)), u[:,i])\n",
    "    xlabel(\"x\")\n",
    "    ylabel(\"displacement\")\n",
    "    stitle = @sprintf(\"T = %3.1fs\", Δt*i)\n",
    "    title(stitle)\n",
    "    axis([-300, 300, -0.0001, 0.013])\n",
    "    fstr = @sprintf(\"./plots/t%03d.png\", convert(Int64, ceil(Δt*i*10)))\n",
    "    savefig(fstr)\n",
    "    plt.clf()\n",
    "end"
   ]
  },
  {
   "cell_type": "code",
   "execution_count": 91,
   "metadata": {},
   "outputs": [
    {
     "name": "stderr",
     "output_type": "stream",
     "text": [
      "┌ Warning: Parsing command \"convert -delay 10 ./plot*.png -loop 0 chain.gif\". Special characters \"#{}()[]<>|&*?~;\" should now be quoted in commands\n",
      "│   caller = #shell_parse#350(::String, ::typeof(Base.shell_parse), ::String, ::Bool) at shell.jl:107\n",
      "└ @ Base ./shell.jl:107\n",
      "convert: unable to open image `./plot*.png': No such file or directory @ error/blob.c/OpenBlob/2761.\n",
      "convert: no images defined `chain.gif' @ error/convert.c/ConvertImageCommand/3258.\n"
     ]
    },
    {
     "ename": "ProcessFailedException",
     "evalue": "failed process: Process(`convert -delay 10 './plot*.png' -loop 0 chain.gif`, ProcessExited(1)) [1]\n",
     "output_type": "error",
     "traceback": [
      "failed process: Process(`convert -delay 10 './plot*.png' -loop 0 chain.gif`, ProcessExited(1)) [1]\n",
      "",
      "Stacktrace:",
      " [1] pipeline_error at ./process.jl:525 [inlined]",
      " [2] #run#565(::Bool, ::typeof(run), ::Cmd) at ./process.jl:440",
      " [3] run(::Cmd) at ./process.jl:438",
      " [4] top-level scope at In[91]:1"
     ]
    }
   ],
   "source": [
    "run(`convert -delay 10 ./plot*.png -loop 0 chain.gif`)"
   ]
  }
 ],
 "metadata": {
  "kernelspec": {
   "display_name": "Julia 1.3.1",
   "language": "julia",
   "name": "julia-1.3"
  },
  "language_info": {
   "file_extension": ".jl",
   "mimetype": "application/julia",
   "name": "julia",
   "version": "1.3.1"
  }
 },
 "nbformat": 4,
 "nbformat_minor": 2
}
