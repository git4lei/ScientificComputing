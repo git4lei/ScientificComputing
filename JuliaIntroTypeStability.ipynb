{
 "cells": [
  {
   "cell_type": "markdown",
   "metadata": {},
   "source": [
    "# Julia language introduction\n",
    "\n",
    "## Why Julia\n",
    "https://julialang.org/blog/2012/02/why-we-created-julia/\n",
    "\n",
    "We want a language that's **open source**, with a liberal license. We want the speed of **C,** with the dynamism of **Ruby**. We want a language that's homoiconic, with true macros like **Lisp**, but with obvious, familiar mathematical notation like **Matlab**. We want something as usable for general programming as **Python**, as easy for statistics as **R,** as natural for string processing as **Perl**, as powerful for linear algebra as Matlab, as good at gluing programs together as the **shell**. Something that is dirt simple to learn, yet keeps the most serious hackers happy. We want it interactive and we want it compiled."
   ]
  },
  {
   "cell_type": "markdown",
   "metadata": {},
   "source": [
    "## Install\n",
    "https://julialang.org\n",
    "\n",
    "## REPL (read-eval-print loop)   \n",
    "- The Julian mode   \n",
    "- Help mode   \n",
    "- Shell mode   \n",
    "\n",
    "## Package\n",
    "\n",
    "- add  \n",
    "- using     \n",
    "\n",
    "## Editor\n",
    "- jupyter-notebook\n",
    "- txt   \n",
    "- vim   \n",
    "- vscode https://code.visualstudio.com\n",
    "\n",
    "## Scope of variables\n",
    "The scope of a variable is the region of code within which a variable is visiable.   \n",
    "Global & Local"
   ]
  },
  {
   "cell_type": "code",
   "execution_count": 1,
   "metadata": {},
   "outputs": [
    {
     "ename": "UndefVarError",
     "evalue": "UndefVarError: z not defined",
     "output_type": "error",
     "traceback": [
      "UndefVarError: z not defined",
      "",
      "Stacktrace:",
      " [1] top-level scope at show.jl:562",
      " [2] top-level scope at In[1]:4"
     ]
    }
   ],
   "source": [
    "for i = 1:10\n",
    "    z = i\n",
    "end\n",
    "@show z"
   ]
  },
  {
   "cell_type": "code",
   "execution_count": 10,
   "metadata": {},
   "outputs": [
    {
     "name": "stdout",
     "output_type": "stream",
     "text": [
      "z = 1\n",
      "z = 2\n",
      "z = 2\n",
      "z = 2\n",
      "z = 4\n",
      "z = 4\n",
      "z = 4\n"
     ]
    },
    {
     "data": {
      "text/plain": [
       "4"
      ]
     },
     "execution_count": 10,
     "metadata": {},
     "output_type": "execute_result"
    }
   ],
   "source": [
    "for i = 1:2\n",
    "    z = i\n",
    "    for j = 1:2\n",
    "        z = i*j\n",
    "        @show z\n",
    "    end\n",
    "    @show z\n",
    "end\n",
    "@show z"
   ]
  },
  {
   "cell_type": "code",
   "execution_count": 11,
   "metadata": {},
   "outputs": [
    {
     "name": "stdout",
     "output_type": "stream",
     "text": [
      "z = 10\n"
     ]
    }
   ],
   "source": [
    "for i = 1:10\n",
    "    global z\n",
    "    z = i\n",
    "end\n",
    "@show z;"
   ]
  },
  {
   "cell_type": "code",
   "execution_count": 12,
   "metadata": {},
   "outputs": [
    {
     "name": "stdout",
     "output_type": "stream",
     "text": [
      "y = 10\n"
     ]
    }
   ],
   "source": [
    "for i = 1:10\n",
    "    y = i\n",
    "    global y\n",
    "end\n",
    "@show y;"
   ]
  },
  {
   "cell_type": "code",
   "execution_count": 14,
   "metadata": {},
   "outputs": [],
   "source": [
    "x, y = 1, 2\n",
    "function foo()\n",
    "    x = 2 # assignment introduces a new local variable\n",
    "    return x + y\n",
    "end\n",
    "nothing"
   ]
  },
  {
   "cell_type": "code",
   "execution_count": 16,
   "metadata": {},
   "outputs": [
    {
     "name": "stdout",
     "output_type": "stream",
     "text": [
      "foo() = 4\n",
      "x = 1\n"
     ]
    }
   ],
   "source": [
    "@show foo()\n",
    "@show x;"
   ]
  },
  {
   "cell_type": "code",
   "execution_count": 18,
   "metadata": {},
   "outputs": [
    {
     "name": "stdout",
     "output_type": "stream",
     "text": [
      "foobar() = 2\n",
      "x = 2\n"
     ]
    }
   ],
   "source": [
    "x = 1\n",
    "function foobar()\n",
    "    global x = 2\n",
    "end\n",
    "@show foobar();\n",
    "@show x;"
   ]
  },
  {
   "cell_type": "code",
   "execution_count": 20,
   "metadata": {},
   "outputs": [
    {
     "name": "stdout",
     "output_type": "stream",
     "text": [
      "baz() = 22\n",
      "(x, y) = (1, 2)\n"
     ]
    }
   ],
   "source": [
    "x, y = 1, 2\n",
    "function baz()\n",
    "    x = 2 # introduces a new local\n",
    "    function bar()\n",
    "        x = 10 # modifies the parent's x\n",
    "        return x + y # y is global\n",
    "    end\n",
    "    return bar() + x\n",
    "end;\n",
    "@show baz()\n",
    "@show (x,y)\n",
    "nothing"
   ]
  },
  {
   "cell_type": "code",
   "execution_count": 21,
   "metadata": {},
   "outputs": [
    {
     "name": "stdout",
     "output_type": "stream",
     "text": [
      "quz() = 14\n",
      "(x, y) = (1, 2)\n"
     ]
    }
   ],
   "source": [
    "x, y = 1, 2\n",
    "function bar()\n",
    "    x = 10 # local, no longer a closure variable\n",
    "    return x + y\n",
    "end\n",
    "function quz()\n",
    "    x = 2 # local\n",
    "    return bar() + x # 12 + 2 (x is not modified)\n",
    "end\n",
    "@show quz()\n",
    "@show (x,y)\n",
    "nothing"
   ]
  },
  {
   "cell_type": "markdown",
   "metadata": {},
   "source": [
    "## Type stability\n",
    "Type stability is the idea that there is only **one** possible type which can be outputtted from a method. For example, the reasonable type to output from `*(::Float64,::Float64)` is a `Float64`"
   ]
  },
  {
   "cell_type": "code",
   "execution_count": 22,
   "metadata": {},
   "outputs": [
    {
     "data": {
      "text/latex": [
       "\\begin{verbatim}\n",
       "@code_native\n",
       "\\end{verbatim}\n",
       "Evaluates the arguments to the function or macro call, determines their types, and calls \\href{@ref}{\\texttt{code\\_native}} on the resulting expression.\n",
       "\n",
       "Set the optional keyword argument \\texttt{debuginfo} by putting it before the function call, like this:\n",
       "\n",
       "\\begin{verbatim}\n",
       "@code_native debuginfo=:default f(x)\n",
       "\\end{verbatim}\n",
       "\\texttt{debuginfo} may be one of \\texttt{:source} (default) or \\texttt{:none}, to specify the verbosity of code comments.\n",
       "\n"
      ],
      "text/markdown": [
       "```\n",
       "@code_native\n",
       "```\n",
       "\n",
       "Evaluates the arguments to the function or macro call, determines their types, and calls [`code_native`](@ref) on the resulting expression.\n",
       "\n",
       "Set the optional keyword argument `debuginfo` by putting it before the function call, like this:\n",
       "\n",
       "```\n",
       "@code_native debuginfo=:default f(x)\n",
       "```\n",
       "\n",
       "`debuginfo` may be one of `:source` (default) or `:none`, to specify the verbosity of code comments.\n"
      ],
      "text/plain": [
       "\u001b[36m  @code_native\u001b[39m\n",
       "\n",
       "  Evaluates the arguments to the function or macro call, determines their\n",
       "  types, and calls \u001b[36mcode_native\u001b[39m on the resulting expression.\n",
       "\n",
       "  Set the optional keyword argument \u001b[36mdebuginfo\u001b[39m by putting it before the\n",
       "  function call, like this:\n",
       "\n",
       "\u001b[36m  @code_native debuginfo=:default f(x)\u001b[39m\n",
       "\n",
       "  \u001b[36mdebuginfo\u001b[39m may be one of \u001b[36m:source\u001b[39m (default) or \u001b[36m:none\u001b[39m, to specify the verbosity\n",
       "  of code comments."
      ]
     },
     "execution_count": 22,
     "metadata": {},
     "output_type": "execute_result"
    }
   ],
   "source": [
    "?@code_native"
   ]
  },
  {
   "cell_type": "code",
   "execution_count": 23,
   "metadata": {},
   "outputs": [
    {
     "name": "stdout",
     "output_type": "stream",
     "text": [
      "\t.section\t__TEXT,__text,regular,pure_instructions\n",
      "; ┌ @ In[23]:2 within `f'\n",
      "; │┌ @ promotion.jl:312 within `*' @ In[23]:2\n",
      "\tvaddsd\t%xmm0, %xmm0, %xmm0\n",
      "; │└\n",
      "; │┌ @ float.jl:401 within `+'\n",
      "\tvaddsd\t%xmm1, %xmm0, %xmm0\n",
      "; │└\n",
      "\tretq\n",
      "\tnopl\t(%rax)\n",
      "; └\n"
     ]
    }
   ],
   "source": [
    "function f(a,b)\n",
    "    return 2a+b\n",
    "end\n",
    "@code_native f(2.0, 3.0)"
   ]
  },
  {
   "cell_type": "code",
   "execution_count": 60,
   "metadata": {},
   "outputs": [
    {
     "name": "stdout",
     "output_type": "stream",
     "text": [
      "\n",
      ";  @ In[23]:2 within `f'\n",
      "define double @julia_f_17638(double, double) {\n",
      "top:\n",
      "; ┌ @ promotion.jl:312 within `*' @ float.jl:405\n",
      "   %2 = fmul double %0, 2.000000e+00\n",
      "; └\n",
      "; ┌ @ float.jl:401 within `+'\n",
      "   %3 = fadd double %2, %1\n",
      "; └\n",
      "  ret double %3\n",
      "}\n"
     ]
    }
   ],
   "source": [
    "@code_llvm f(2.0, 3.0)"
   ]
  },
  {
   "cell_type": "code",
   "execution_count": 61,
   "metadata": {},
   "outputs": [
    {
     "name": "stdout",
     "output_type": "stream",
     "text": [
      "\n",
      ";  @ In[23]:2 within `f'\n",
      "define double @julia_f_17772(double, i64) {\n",
      "top:\n",
      "; ┌ @ promotion.jl:312 within `*' @ float.jl:405\n",
      "   %2 = fmul double %0, 2.000000e+00\n",
      "; └\n",
      "; ┌ @ promotion.jl:311 within `+'\n",
      "; │┌ @ promotion.jl:282 within `promote'\n",
      "; ││┌ @ promotion.jl:259 within `_promote'\n",
      "; │││┌ @ number.jl:7 within `convert'\n",
      "; ││││┌ @ float.jl:60 within `Float64'\n",
      "       %3 = sitofp i64 %1 to double\n",
      "; │└└└└\n",
      "; │ @ promotion.jl:311 within `+' @ float.jl:401\n",
      "   %4 = fadd double %2, %3\n",
      "; └\n",
      "  ret double %4\n",
      "}\n"
     ]
    }
   ],
   "source": [
    "@code_llvm f(2.0, 3)"
   ]
  },
  {
   "cell_type": "markdown",
   "metadata": {},
   "source": [
    "## The REPL/Global Scope Does Not Allow Type Specificity"
   ]
  },
  {
   "cell_type": "code",
   "execution_count": 24,
   "metadata": {},
   "outputs": [],
   "source": [
    "function linearcombo()\n",
    "  return 2a+b\n",
    "end\n",
    "nothing"
   ]
  },
  {
   "cell_type": "code",
   "execution_count": 64,
   "metadata": {},
   "outputs": [
    {
     "name": "stdout",
     "output_type": "stream",
     "text": [
      "linearcombo() = 4.0\n",
      "\n",
      ";  @ In[24]:2 within `linearcombo'\n",
      "define nonnull %jl_value_t addrspace(10)* @julia_linearcombo_17640() {\n",
      "top:\n",
      "  %0 = alloca %jl_value_t addrspace(10)*, i32 2\n",
      "  %gcframe = alloca %jl_value_t addrspace(10)*, i32 4\n",
      "  %1 = bitcast %jl_value_t addrspace(10)** %gcframe to i8*\n",
      "  call void @llvm.memset.p0i8.i32(i8* %1, i8 0, i32 32, i32 0, i1 false)\n",
      "  %2 = call %jl_value_t*** inttoptr (i64 4500222000 to %jl_value_t*** ()*)() #4\n",
      "  %3 = getelementptr %jl_value_t addrspace(10)*, %jl_value_t addrspace(10)** %gcframe, i32 0\n",
      "  %4 = bitcast %jl_value_t addrspace(10)** %3 to i64*\n",
      "  store i64 4, i64* %4\n",
      "  %5 = getelementptr %jl_value_t**, %jl_value_t*** %2, i32 0\n",
      "  %6 = load %jl_value_t**, %jl_value_t*** %5\n",
      "  %7 = getelementptr %jl_value_t addrspace(10)*, %jl_value_t addrspace(10)** %gcframe, i32 1\n",
      "  %8 = bitcast %jl_value_t addrspace(10)** %7 to %jl_value_t***\n",
      "  store %jl_value_t** %6, %jl_value_t*** %8\n",
      "  %9 = bitcast %jl_value_t*** %5 to %jl_value_t addrspace(10)***\n",
      "  store %jl_value_t addrspace(10)** %gcframe, %jl_value_t addrspace(10)*** %9\n",
      "  %10 = load %jl_value_t addrspace(10)*, %jl_value_t addrspace(10)** inttoptr (i64 4778284264 to %jl_value_t addrspace(10)**), align 8\n",
      "  %11 = getelementptr %jl_value_t addrspace(10)*, %jl_value_t addrspace(10)** %gcframe, i32 2\n",
      "  store %jl_value_t addrspace(10)* %10, %jl_value_t addrspace(10)** %11\n",
      "  %12 = getelementptr %jl_value_t addrspace(10)*, %jl_value_t addrspace(10)** %0, i32 0\n",
      "  store %jl_value_t addrspace(10)* addrspacecast (%jl_value_t* inttoptr (i64 4554506400 to %jl_value_t*) to %jl_value_t addrspace(10)*), %jl_value_t addrspace(10)** %12\n",
      "  %13 = getelementptr %jl_value_t addrspace(10)*, %jl_value_t addrspace(10)** %0, i32 1\n",
      "  store %jl_value_t addrspace(10)* %10, %jl_value_t addrspace(10)** %13\n",
      "  %14 = call nonnull %jl_value_t addrspace(10)* @jl_apply_generic(%jl_value_t addrspace(10)* addrspacecast (%jl_value_t* inttoptr (i64 4612456288 to %jl_value_t*) to %jl_value_t addrspace(10)*), %jl_value_t addrspace(10)** %0, i32 2)\n",
      "  %15 = load %jl_value_t addrspace(10)*, %jl_value_t addrspace(10)** inttoptr (i64 4721403000 to %jl_value_t addrspace(10)**), align 8\n",
      "  %16 = getelementptr %jl_value_t addrspace(10)*, %jl_value_t addrspace(10)** %gcframe, i32 3\n",
      "  store %jl_value_t addrspace(10)* %14, %jl_value_t addrspace(10)** %16\n",
      "  %17 = getelementptr %jl_value_t addrspace(10)*, %jl_value_t addrspace(10)** %gcframe, i32 2\n",
      "  store %jl_value_t addrspace(10)* %15, %jl_value_t addrspace(10)** %17\n",
      "  %18 = getelementptr %jl_value_t addrspace(10)*, %jl_value_t addrspace(10)** %0, i32 0\n",
      "  store %jl_value_t addrspace(10)* %14, %jl_value_t addrspace(10)** %18\n",
      "  %19 = getelementptr %jl_value_t addrspace(10)*, %jl_value_t addrspace(10)** %0, i32 1\n",
      "  store %jl_value_t addrspace(10)* %15, %jl_value_t addrspace(10)** %19\n",
      "  %20 = call nonnull %jl_value_t addrspace(10)* @jl_apply_generic(%jl_value_t addrspace(10)* addrspacecast (%jl_value_t* inttoptr (i64 4609526928 to %jl_value_t*) to %jl_value_t addrspace(10)*), %jl_value_t addrspace(10)** %0, i32 2)\n",
      "  %21 = getelementptr %jl_value_t addrspace(10)*, %jl_value_t addrspace(10)** %gcframe, i32 1\n",
      "  %22 = load %jl_value_t addrspace(10)*, %jl_value_t addrspace(10)** %21\n",
      "  %23 = getelementptr %jl_value_t**, %jl_value_t*** %2, i32 0\n",
      "  %24 = bitcast %jl_value_t*** %23 to %jl_value_t addrspace(10)**\n",
      "  store %jl_value_t addrspace(10)* %22, %jl_value_t addrspace(10)** %24\n",
      "  ret %jl_value_t addrspace(10)* %20\n",
      "}\n"
     ]
    }
   ],
   "source": [
    "a, b = 1.0, 2.0\n",
    "@show linearcombo()\n",
    "@code_llvm linearcombo()"
   ]
  },
  {
   "cell_type": "code",
   "execution_count": 25,
   "metadata": {
    "scrolled": false
   },
   "outputs": [
    {
     "name": "stdout",
     "output_type": "stream",
     "text": [
      "\t.section\t__TEXT,__text,regular,pure_instructions\n",
      "; ┌ @ In[24]:2 within `linearcombo'\n",
      "\tpushq\t%rbp\n",
      "\tmovq\t%rsp, %rbp\n",
      "\tpushq\t%r15\n",
      "\tpushq\t%r14\n",
      "\tpushq\t%r13\n",
      "\tpushq\t%r12\n",
      "\tpushq\t%rbx\n",
      "\tandq\t$-32, %rsp\n",
      "\tsubq\t$96, %rsp\n",
      "\tmovabsq\t$jl_system_image_data, %r14\n",
      "\tvxorps\t%xmm0, %xmm0, %xmm0\n",
      "\tvmovaps\t%ymm0, 32(%rsp)\n",
      "\tleaq\t-79875808(%r14), %rax\n",
      "\tvzeroupper\n",
      "\tcallq\t*%rax\n",
      "\tmovq\t%rax, %r15\n",
      "\tmovq\t$4, 32(%rsp)\n",
      "\tmovq\t(%r15), %rax\n",
      "\tmovq\t%rax, 40(%rsp)\n",
      "\tleaq\t32(%rsp), %rax\n",
      "\tmovq\t%rax, (%r15)\n",
      "\tmovabsq\t$5057822296, %rbx       ## imm = 0x12D783E58\n",
      "\tmovq\t(%rbx), %rax\n",
      "\ttestq\t%rax, %rax\n",
      "\tjne\tL124\n",
      "\tleaq\t-25150048(%r14), %rsi\n",
      "\tmovabsq\t$jl_get_binding_or_error, %rax\n",
      "\tmovq\t%r14, %rdi\n",
      "\tcallq\t*%rax\n",
      "\tmovq\t%rax, (%rbx)\n",
      "L124:\n",
      "\tmovq\t8(%rax), %rax\n",
      "\ttestq\t%rax, %rax\n",
      "\tje\tL323\n",
      "\tmovq\t%rax, 48(%rsp)\n",
      "; │ @ In[24]:2 within `linearcombo'\n",
      "\tmovabsq\t$4554506400, %rcx       ## imm = 0x10F7840A0\n",
      "\tmovq\t%rcx, 16(%rsp)\n",
      "\tmovq\t%rax, 24(%rsp)\n",
      "\tmovabsq\t$jl_apply_generic, %r12\n",
      "\tmovabsq\t$jl_system_image_data, %rdi\n",
      "\tleaq\t16(%rsp), %rsi\n",
      "\tmovl\t$2, %edx\n",
      "\tcallq\t*%r12\n",
      "\tmovq\t%rax, %rbx\n",
      "\tmovabsq\t$5057822304, %r13       ## imm = 0x12D783E60\n",
      "\tmovq\t(%r13), %rax\n",
      "\ttestq\t%rax, %rax\n",
      "\tjne\tL248\n",
      "\tmovq\t%rbx, 56(%rsp)\n",
      "; │ @ In[24]:2 within `linearcombo'\n",
      "\tmovabsq\t$jl_get_binding_or_error, %rax\n",
      "\tleaq\t-25150008(%r14), %rsi\n",
      "\tmovq\t%r14, %rdi\n",
      "\tcallq\t*%rax\n",
      "\tmovq\t%rax, (%r13)\n",
      "L248:\n",
      "\tmovq\t8(%rax), %rax\n",
      "\ttestq\t%rax, %rax\n",
      "\tje\tL345\n",
      "\tmovq\t%rbx, 56(%rsp)\n",
      "\tmovq\t%rax, 48(%rsp)\n",
      "; │ @ In[24]:2 within `linearcombo'\n",
      "\tmovq\t%rbx, 16(%rsp)\n",
      "\tmovq\t%rax, 24(%rsp)\n",
      "\tmovabsq\t$jl_system_image_data, %rdi\n",
      "\tleaq\t16(%rsp), %rsi\n",
      "\tmovl\t$2, %edx\n",
      "\tcallq\t*%r12\n",
      "\tmovq\t40(%rsp), %rcx\n",
      "\tmovq\t%rcx, (%r15)\n",
      "\tleaq\t-40(%rbp), %rsp\n",
      "\tpopq\t%rbx\n",
      "\tpopq\t%r12\n",
      "\tpopq\t%r13\n",
      "\tpopq\t%r14\n",
      "\tpopq\t%r15\n",
      "\tpopq\t%rbp\n",
      "\tretq\n",
      "L323:\n",
      "\tmovabsq\t$jl_undefined_var_error, %rax\n",
      "\tmovabsq\t$4554947760, %rdi       ## imm = 0x10F7EFCB0\n",
      "\tcallq\t*%rax\n",
      "L345:\n",
      "\tmovabsq\t$jl_undefined_var_error, %rax\n",
      "\tmovabsq\t$4554947800, %rdi       ## imm = 0x10F7EFCD8\n",
      "\tcallq\t*%rax\n",
      "\tnop\n",
      "; └\n"
     ]
    }
   ],
   "source": [
    "@code_native linearcombo()"
   ]
  },
  {
   "cell_type": "code",
   "execution_count": 66,
   "metadata": {},
   "outputs": [
    {
     "name": "stdout",
     "output_type": "stream",
     "text": [
      "\n",
      ";  @ In[66]:4 within `linearcombo2'\n",
      "define double @julia_linearcombo2_17791() {\n",
      "top:\n",
      "  ret double 4.000000e+00\n",
      "}\n"
     ]
    }
   ],
   "source": [
    "const c = 1.0\n",
    "const d = 2.0\n",
    "function linearcombo2()\n",
    "  return 2c+d\n",
    "end\n",
    "@code_llvm linearcombo2()"
   ]
  },
  {
   "cell_type": "code",
   "execution_count": 67,
   "metadata": {
    "scrolled": true
   },
   "outputs": [
    {
     "name": "stdout",
     "output_type": "stream",
     "text": [
      "\t.section\t__TEXT,__text,regular,pure_instructions\n",
      "; ┌ @ In[66]:4 within `linearcombo2'\n",
      "\tmovabsq\t$5057954320, %rax       ## imm = 0x12D7A4210\n",
      "\tvmovsd\t(%rax), %xmm0           ## xmm0 = mem[0],zero\n",
      "\tretq\n",
      "\tnop\n",
      "; └\n"
     ]
    }
   ],
   "source": [
    "@code_native linearcombo2()"
   ]
  },
  {
   "cell_type": "code",
   "execution_count": 94,
   "metadata": {
    "scrolled": true
   },
   "outputs": [
    {
     "name": "stdout",
     "output_type": "stream",
     "text": [
      "\n",
      ";  @ In[94]:2 within `linearcombo3'\n",
      "define double @julia_linearcombo3_17962() {\n",
      "top:\n",
      ";  @ In[94]:6 within `linearcombo3'\n",
      "  ret double 7.000000e+00\n",
      "}\n"
     ]
    }
   ],
   "source": [
    "function linearcombo3()\n",
    "    a, b = 2.0, 3.0\n",
    "    function linearcombo4()\n",
    "        return 2a+b\n",
    "    end\n",
    "    return linearcombo4()\n",
    "end\n",
    "@code_llvm linearcombo3()"
   ]
  },
  {
   "cell_type": "code",
   "execution_count": 95,
   "metadata": {},
   "outputs": [
    {
     "data": {
      "text/plain": [
       "7.0"
      ]
     },
     "execution_count": 95,
     "metadata": {},
     "output_type": "execute_result"
    }
   ],
   "source": [
    "linearcombo3()"
   ]
  },
  {
   "cell_type": "code",
   "execution_count": 96,
   "metadata": {
    "scrolled": true
   },
   "outputs": [
    {
     "name": "stdout",
     "output_type": "stream",
     "text": [
      "\t.section\t__TEXT,__text,regular,pure_instructions\n",
      "; ┌ @ In[94]:2 within `linearcombo3'\n",
      "\tmovabsq\t$5058162968, %rax       ## imm = 0x12D7D7118\n",
      "\tvmovsd\t(%rax), %xmm0           ## xmm0 = mem[0],zero\n",
      "\tretq\n",
      "\tnop\n",
      "; └\n"
     ]
    }
   ],
   "source": [
    "@code_native linearcombo3()"
   ]
  },
  {
   "cell_type": "code",
   "execution_count": 101,
   "metadata": {},
   "outputs": [
    {
     "name": "stdout",
     "output_type": "stream",
     "text": [
      "  0.000005 seconds (6 allocations: 192 bytes)\n",
      "  0.000002 seconds (4 allocations: 160 bytes)\n",
      "  0.000002 seconds (4 allocations: 160 bytes)\n"
     ]
    }
   ],
   "source": [
    "@time linearcombo()\n",
    "@time linearcombo2()\n",
    "@time linearcombo3()\n",
    "nothing"
   ]
  },
  {
   "cell_type": "code",
   "execution_count": 98,
   "metadata": {},
   "outputs": [],
   "source": [
    "function g(x)\n",
    "    for i = 1:10000\n",
    "        x /= 2\n",
    "    end\n",
    "    return x\n",
    "end\n",
    "nothing"
   ]
  },
  {
   "cell_type": "code",
   "execution_count": 71,
   "metadata": {},
   "outputs": [
    {
     "name": "stdout",
     "output_type": "stream",
     "text": [
      "  0.000043 seconds (5 allocations: 176 bytes)\n",
      "  0.000018 seconds (5 allocations: 176 bytes)\n"
     ]
    }
   ],
   "source": [
    "@time g(10)\n",
    "@time g(10.0)\n",
    "nothing"
   ]
  },
  {
   "cell_type": "code",
   "execution_count": 74,
   "metadata": {},
   "outputs": [
    {
     "name": "stdout",
     "output_type": "stream",
     "text": [
      "\t.section\t__TEXT,__text,regular,pure_instructions\n",
      "; ┌ @ In[68]:2 within `g'\n",
      "\tpushq\t%rax\n",
      "\tmovb\t$2, %cl\n",
      "\tmovl\t$9999, %eax             ## imm = 0x270F\n",
      "\tmovabsq\t$5057954624, %rdx       ## imm = 0x12D7A4340\n",
      "\tvmovsd\t(%rdx), %xmm1           ## xmm1 = mem[0],zero\n",
      "\tandb\t$3, %cl\n",
      "; │ @ In[68]:3 within `g'\n",
      "\tcmpb\t$1, %cl\n",
      "\tjne\tL51\n",
      "\tjmp\tL80\n",
      "L32:\n",
      "\tvmovq\t%xmm0, %rdi\n",
      "\taddq\t$-1, %rax\n",
      "\tmovb\t$1, %cl\n",
      "\tandb\t$3, %cl\n",
      "\tcmpb\t$1, %cl\n",
      "\tje\tL80\n",
      "L51:\n",
      "\tcmpb\t$2, %cl\n",
      "\tjne\tL96\n",
      "; │┌ @ int.jl:59 within `/'\n",
      "; ││┌ @ float.jl:277 within `float'\n",
      "; │││┌ @ float.jl:262 within `AbstractFloat'\n",
      "; ││││┌ @ float.jl:60 within `Float64'\n",
      "\tvcvtsi2sdq\t%rdi, %xmm2, %xmm0\n",
      "; │└└└└\n",
      "; │┌ @ float.jl:407 within `/'\n",
      "\tvmulsd\t%xmm1, %xmm0, %xmm0\n",
      "; │└\n",
      "; │┌ @ range.jl:597 within `iterate'\n",
      "; ││┌ @ promotion.jl:401 within `=='\n",
      "\ttestq\t%rax, %rax\n",
      "; │└└\n",
      "\tjne\tL32\n",
      "\tjmp\tL94\n",
      "\tnopl\t(%rax,%rax)\n",
      "; │┌ @ promotion.jl:314 within `/' @ float.jl:407\n",
      "L80:\n",
      "\tvmovq\t%rdi, %xmm0\n",
      "; │└\n",
      "; │┌ @ int.jl:59 within `/' @ float.jl:407\n",
      "\tvmulsd\t%xmm1, %xmm0, %xmm0\n",
      "; │└\n",
      "; │┌ @ range.jl:597 within `iterate'\n",
      "; ││┌ @ promotion.jl:401 within `=='\n",
      "\ttestq\t%rax, %rax\n",
      "; │└└\n",
      "\tjne\tL32\n",
      "; │ @ In[68]:5 within `g'\n",
      "L94:\n",
      "\tpopq\t%rax\n",
      "\tretq\n",
      "; │ @ In[68]:3 within `g'\n",
      "L96:\n",
      "\tmovabsq\t$jl_throw, %rax\n",
      "\tmovabsq\t$jl_system_image_data, %rdi\n",
      "\tcallq\t*%rax\n",
      "\tnopw\t%cs:(%rax,%rax)\n",
      "; └\n"
     ]
    }
   ],
   "source": [
    "@code_native g(10)"
   ]
  },
  {
   "cell_type": "code",
   "execution_count": 75,
   "metadata": {},
   "outputs": [
    {
     "name": "stdout",
     "output_type": "stream",
     "text": [
      "\t.section\t__TEXT,__text,regular,pure_instructions\n",
      "; ┌ @ In[68]:2 within `g'\n",
      "\tmovl\t$10000, %eax            ## imm = 0x2710\n",
      "\tmovabsq\t$5057956136, %rcx       ## imm = 0x12D7A4928\n",
      "\tvmovsd\t(%rcx), %xmm1           ## xmm1 = mem[0],zero\n",
      "\tnopw\t%cs:(%rax,%rax)\n",
      "; │ @ In[68]:3 within `g'\n",
      "; │┌ @ promotion.jl:314 within `/' @ float.jl:407\n",
      "L32:\n",
      "\tvmulsd\t%xmm1, %xmm0, %xmm0\n",
      "; │└\n",
      "; │┌ @ range.jl:597 within `iterate'\n",
      "; ││┌ @ promotion.jl:401 within `=='\n",
      "\taddq\t$-1, %rax\n",
      "; │└└\n",
      "\tjne\tL32\n",
      "; │ @ In[68]:5 within `g'\n",
      "\tretq\n",
      "\tnopl\t(%rax,%rax)\n",
      "; └\n"
     ]
    }
   ],
   "source": [
    "@code_native g(10.0)"
   ]
  },
  {
   "cell_type": "code",
   "execution_count": 72,
   "metadata": {},
   "outputs": [
    {
     "name": "stdout",
     "output_type": "stream",
     "text": [
      "Variables\n",
      "  #self#\u001b[36m::Core.Compiler.Const(g, false)\u001b[39m\n",
      "  x@_2\u001b[36m::Int64\u001b[39m\n",
      "  @_3\u001b[33m\u001b[1m::Union{Nothing, Tuple{Int64,Int64}}\u001b[22m\u001b[39m\n",
      "  i\u001b[36m::Int64\u001b[39m\n",
      "  x@_5\u001b[91m\u001b[1m::Union{Float64, Int64}\u001b[22m\u001b[39m\n",
      "\n",
      "Body\u001b[36m::Float64\u001b[39m\n",
      "\u001b[90m1 ─\u001b[39m       (x@_5 = x@_2)\n",
      "\u001b[90m│  \u001b[39m %2  = (1:10000)\u001b[36m::Core.Compiler.Const(1:10000, false)\u001b[39m\n",
      "\u001b[90m│  \u001b[39m       (@_3 = Base.iterate(%2))\n",
      "\u001b[90m│  \u001b[39m %4  = (@_3::Core.Compiler.Const((1, 1), false) === nothing)\u001b[36m::Core.Compiler.Const(false, false)\u001b[39m\n",
      "\u001b[90m│  \u001b[39m %5  = Base.not_int(%4)\u001b[36m::Core.Compiler.Const(true, false)\u001b[39m\n",
      "\u001b[90m└──\u001b[39m       goto #4 if not %5\n",
      "\u001b[90m2 ┄\u001b[39m %7  = @_3::Tuple{Int64,Int64}\u001b[36m::Tuple{Int64,Int64}\u001b[39m\n",
      "\u001b[90m│  \u001b[39m       (i = Core.getfield(%7, 1))\n",
      "\u001b[90m│  \u001b[39m %9  = Core.getfield(%7, 2)\u001b[36m::Int64\u001b[39m\n",
      "\u001b[90m│  \u001b[39m       (x@_5 = x@_5 / 2)\n",
      "\u001b[90m│  \u001b[39m       (@_3 = Base.iterate(%2, %9))\n",
      "\u001b[90m│  \u001b[39m %12 = (@_3 === nothing)\u001b[36m::Bool\u001b[39m\n",
      "\u001b[90m│  \u001b[39m %13 = Base.not_int(%12)\u001b[36m::Bool\u001b[39m\n",
      "\u001b[90m└──\u001b[39m       goto #4 if not %13\n",
      "\u001b[90m3 ─\u001b[39m       goto #2\n",
      "\u001b[90m4 ┄\u001b[39m       return x@_5::Float64\n"
     ]
    }
   ],
   "source": [
    "@code_warntype g(10)"
   ]
  },
  {
   "cell_type": "code",
   "execution_count": 73,
   "metadata": {},
   "outputs": [
    {
     "name": "stdout",
     "output_type": "stream",
     "text": [
      "Variables\n",
      "  #self#\u001b[36m::Core.Compiler.Const(g, false)\u001b[39m\n",
      "  x@_2\u001b[36m::Float64\u001b[39m\n",
      "  @_3\u001b[33m\u001b[1m::Union{Nothing, Tuple{Int64,Int64}}\u001b[22m\u001b[39m\n",
      "  i\u001b[36m::Int64\u001b[39m\n",
      "  x@_5\u001b[36m::Float64\u001b[39m\n",
      "\n",
      "Body\u001b[36m::Float64\u001b[39m\n",
      "\u001b[90m1 ─\u001b[39m       (x@_5 = x@_2)\n",
      "\u001b[90m│  \u001b[39m %2  = (1:10000)\u001b[36m::Core.Compiler.Const(1:10000, false)\u001b[39m\n",
      "\u001b[90m│  \u001b[39m       (@_3 = Base.iterate(%2))\n",
      "\u001b[90m│  \u001b[39m %4  = (@_3::Core.Compiler.Const((1, 1), false) === nothing)\u001b[36m::Core.Compiler.Const(false, false)\u001b[39m\n",
      "\u001b[90m│  \u001b[39m %5  = Base.not_int(%4)\u001b[36m::Core.Compiler.Const(true, false)\u001b[39m\n",
      "\u001b[90m└──\u001b[39m       goto #4 if not %5\n",
      "\u001b[90m2 ┄\u001b[39m %7  = @_3::Tuple{Int64,Int64}\u001b[36m::Tuple{Int64,Int64}\u001b[39m\n",
      "\u001b[90m│  \u001b[39m       (i = Core.getfield(%7, 1))\n",
      "\u001b[90m│  \u001b[39m %9  = Core.getfield(%7, 2)\u001b[36m::Int64\u001b[39m\n",
      "\u001b[90m│  \u001b[39m       (x@_5 = x@_5 / 2)\n",
      "\u001b[90m│  \u001b[39m       (@_3 = Base.iterate(%2, %9))\n",
      "\u001b[90m│  \u001b[39m %12 = (@_3 === nothing)\u001b[36m::Bool\u001b[39m\n",
      "\u001b[90m│  \u001b[39m %13 = Base.not_int(%12)\u001b[36m::Bool\u001b[39m\n",
      "\u001b[90m└──\u001b[39m       goto #4 if not %13\n",
      "\u001b[90m3 ─\u001b[39m       goto #2\n",
      "\u001b[90m4 ┄\u001b[39m       return x@_5\n"
     ]
    }
   ],
   "source": [
    "@code_warntype g(10.0)"
   ]
  },
  {
   "cell_type": "code",
   "execution_count": 1,
   "metadata": {},
   "outputs": [
    {
     "data": {
      "text/plain": [
       "0.03125"
      ]
     },
     "execution_count": 1,
     "metadata": {},
     "output_type": "execute_result"
    }
   ],
   "source": [
    "2^-5"
   ]
  },
  {
   "cell_type": "code",
   "execution_count": null,
   "metadata": {},
   "outputs": [],
   "source": []
  }
 ],
 "metadata": {
  "kernelspec": {
   "display_name": "Julia 1.3.1",
   "language": "julia",
   "name": "julia-1.3"
  },
  "language_info": {
   "file_extension": ".jl",
   "mimetype": "application/julia",
   "name": "julia",
   "version": "1.3.1"
  }
 },
 "nbformat": 4,
 "nbformat_minor": 2
}
